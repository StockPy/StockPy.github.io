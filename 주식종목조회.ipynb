{
 "cells": [
  {
   "cell_type": "code",
   "execution_count": null,
   "metadata": {},
   "outputs": [],
   "source": [
    "# 주식종목조회 (전체 주식)\n",
    "class XAQueryEventHandlerT8430:\n",
    "    query_state = 0\n",
    "\n",
    "    def OnReceiveData(self, code):\n",
    "        XAQueryEventHandlerT8430.query_state = 1"
   ]
  },
  {
   "cell_type": "code",
   "execution_count": null,
   "metadata": {},
   "outputs": [],
   "source": [
    "instXAQueryT8430 = win32com.client.DispatchWithEvents(\"XA_DataSet.XAQuery\", XAQueryEventHandlerT8430)\n",
    "instXAQueryT8430.ResFileName = \"C:\\\\eBEST\\\\xingAPI\\\\Res\\\\t8430.res\""
   ]
  },
  {
   "cell_type": "code",
   "execution_count": null,
   "metadata": {},
   "outputs": [],
   "source": [
    "instXAQueryT8430.SetFieldData(\"t8430InBlock\", \"gubun\", 0, 1)"
   ]
  },
  {
   "cell_type": "code",
   "execution_count": null,
   "metadata": {},
   "outputs": [],
   "source": [
    "instXAQueryT8430.Request(0)\n",
    "\n",
    "while XAQueryEventHandlerT8430.query_state == 0:\n",
    "    pythoncom.PumpWaitingMessages()"
   ]
  },
  {
   "cell_type": "code",
   "execution_count": null,
   "metadata": {},
   "outputs": [],
   "source": [
    "count = instXAQueryT8430.GetBlockCount(\"t8430OutBlock\")\n",
    "print(count)\n",
    "\n",
    "for i in range(count):\n",
    "    hname = instXAQueryT8430.GetFieldData(\"t8430OutBlock\", \"hname\", i)\n",
    "    shcode = instXAQueryT8430.GetFieldData(\"t8430OutBlock\", \"shcode\", i)\n",
    "    expcode = instXAQueryT8430.GetFieldData(\"t8430OutBlock\", \"expcode\", i)\n",
    "    etfgubun = instXAQueryT8430.GetFieldData(\"t8430OutBlock\", \"etfgubun\", i)\n",
    "    print(i, hname, shcode, expcode, etfgubun)"
   ]
  }
 ],
 "metadata": {
  "kernelspec": {
   "display_name": "Python 3",
   "language": "python",
   "name": "python3"
  },
  "language_info": {
   "codemirror_mode": {
    "name": "ipython",
    "version": 3
   },
   "file_extension": ".py",
   "mimetype": "text/x-python",
   "name": "python",
   "nbconvert_exporter": "python",
   "pygments_lexer": "ipython3",
   "version": "3.7.7"
  }
 },
 "nbformat": 4,
 "nbformat_minor": 4
}
