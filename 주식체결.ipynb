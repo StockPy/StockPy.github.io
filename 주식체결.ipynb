{
 "cells": [
  {
   "cell_type": "code",
   "execution_count": 1,
   "metadata": {},
   "outputs": [],
   "source": [
    "# 주식체결 조회2\n",
    "class XAQueryEventHandlerT0425:\n",
    "    query_state = 0\n",
    "\n",
    "    def OnReceiveData(self, code):\n",
    "        XAQueryEventHandlerT0425.query_state = 1"
   ]
  },
  {
   "cell_type": "code",
   "execution_count": 2,
   "metadata": {},
   "outputs": [
    {
     "ename": "NameError",
     "evalue": "name 'win32com' is not defined",
     "output_type": "error",
     "traceback": [
      "\u001b[1;31m---------------------------------------------------------------------------\u001b[0m",
      "\u001b[1;31mNameError\u001b[0m                                 Traceback (most recent call last)",
      "\u001b[1;32m<ipython-input-2-44dc216265b2>\u001b[0m in \u001b[0;36m<module>\u001b[1;34m\u001b[0m\n\u001b[1;32m----> 1\u001b[1;33m \u001b[0minstXAQueryT0425\u001b[0m \u001b[1;33m=\u001b[0m \u001b[0mwin32com\u001b[0m\u001b[1;33m.\u001b[0m\u001b[0mclient\u001b[0m\u001b[1;33m.\u001b[0m\u001b[0mDispatchWithEvents\u001b[0m\u001b[1;33m(\u001b[0m\u001b[1;34m\"XA_DataSet.XAQuery\"\u001b[0m\u001b[1;33m,\u001b[0m \u001b[0mXAQueryEventHandlerT0425\u001b[0m\u001b[1;33m)\u001b[0m\u001b[1;33m\u001b[0m\u001b[1;33m\u001b[0m\u001b[0m\n\u001b[0m\u001b[0;32m      2\u001b[0m \u001b[0minstXAQueryT0425\u001b[0m\u001b[1;33m.\u001b[0m\u001b[0mResFileName\u001b[0m \u001b[1;33m=\u001b[0m \u001b[1;34m\"C:\\\\eBEST\\\\xingAPI\\\\Res\\\\t0425.res\"\u001b[0m\u001b[1;33m\u001b[0m\u001b[1;33m\u001b[0m\u001b[0m\n\u001b[0;32m      3\u001b[0m \u001b[1;33m\u001b[0m\u001b[0m\n\u001b[0;32m      4\u001b[0m \u001b[0minstXAQueryT0425\u001b[0m\u001b[1;33m.\u001b[0m\u001b[0mSetFieldData\u001b[0m\u001b[1;33m(\u001b[0m\u001b[1;34m\"t0425InBlock\"\u001b[0m\u001b[1;33m,\u001b[0m \u001b[1;34m\"accno\"\u001b[0m\u001b[1;33m,\u001b[0m \u001b[1;36m0\u001b[0m\u001b[1;33m,\u001b[0m \u001b[1;36m10011702835\u001b[0m\u001b[1;33m)\u001b[0m \u001b[1;31m# XAQuery 인스턴스를 통해 SetFieldData라는 메서드를 호출한 후 적절한 인자 값을 지정\u001b[0m\u001b[1;33m\u001b[0m\u001b[1;33m\u001b[0m\u001b[0m\n\u001b[0;32m      5\u001b[0m \u001b[0minstXAQueryT0425\u001b[0m\u001b[1;33m.\u001b[0m\u001b[0mSetFieldData\u001b[0m\u001b[1;33m(\u001b[0m\u001b[1;34m\"t0425InBlock\"\u001b[0m\u001b[1;33m,\u001b[0m \u001b[1;34m\"passwd\"\u001b[0m\u001b[1;33m,\u001b[0m \u001b[1;36m0\u001b[0m\u001b[1;33m,\u001b[0m \u001b[1;34m\"1648\"\u001b[0m\u001b[1;33m)\u001b[0m\u001b[1;33m\u001b[0m\u001b[1;33m\u001b[0m\u001b[0m\n",
      "\u001b[1;31mNameError\u001b[0m: name 'win32com' is not defined"
     ]
    }
   ],
   "source": [
    "instXAQueryT0425 = win32com.client.DispatchWithEvents(\"XA_DataSet.XAQuery\", XAQueryEventHandlerT0425)\n",
    "instXAQueryT0425.ResFileName = \"C:\\\\eBEST\\\\xingAPI\\\\Res\\\\t0425.res\"\n",
    "\n",
    "instXAQueryT0425.SetFieldData(\"t0425InBlock\", \"accno\", 0, 10011702835) # XAQuery 인스턴스를 통해 SetFieldData라는 메서드를 호출한 후 적절한 인자 값을 지정\n",
    "instXAQueryT0425.SetFieldData(\"t0425InBlock\", \"passwd\", 0, \"1648\")\n",
    "#instXAQueryT0425.SetFieldData(\"t0425InBlock\", \"accno\", 0, 55501053242) # XAQuery 인스턴스를 통해 SetFieldData라는 메서드를 호출한 후 적절한 인자 값을 지정\n",
    "#instXAQueryT0425.SetFieldData(\"t0425InBlock\", \"passwd\", 0, \"1234a\")\n",
    "instXAQueryT0425.SetFieldData(\"t0425InBlock\", \"sortgb\", 0, 1) # sorting, 매매구분 정보를 넣어야 for문으로 전체 리스트 가져온다\n",
    "instXAQueryT0425.SetFieldData(\"t0425InBlock\", \"medosu\", 0, 0) # sorting, 매매구분 정보를 넣어야 for문으로 전체 리스트 가져온다\n",
    "\n",
    "instXAQueryT0425.Request(0) # Request 메서드를 호출해서 입력 데이터를 서버로 전송\n",
    "\n",
    "while XAQueryEventHandlerT0425.query_state == 0: # 서버에 TR 요청을 했다면 해당 작업이 완료됐다는 이벤트를 받을 때까지 프로그램이 종료되지 않고 대기\n",
    "    pythoncom.PumpWaitingMessages()\n",
    "    # 이베스트투자증권의 서버는 TR 처리가 완료되면 OnReceiveData 메서드를 콜백합니다.\n",
    "    # 이로 인해 XAQueryEventHandlerT1102.query_state 값이 1로 변경되어 이벤트 대기 루프에서 exit"
   ]
  },
  {
   "cell_type": "code",
   "execution_count": null,
   "metadata": {},
   "outputs": [],
   "source": [
    "count = instXAQueryT0425.GetBlockCount(\"t0425OutBlock\")\n",
    "print(count)\n",
    "tqty = instXAQueryT0425.GetFieldData(\"t0425OutBlock\", \"tqty\", 0) # 총 주문수량\n",
    "tcheqty = instXAQueryT0425.GetFieldData(\"t0425OutBlock\", \"tcheqty\", 0) # 총 체결수량\n",
    "tamt = instXAQueryT0425.GetFieldData(\"t0425OutBlock\", \"tamt\", 0) # 총 주문금액\n",
    "tmsamt = instXAQueryT0425.GetFieldData(\"t0425OutBlock\", \"tmsamt\", 0) # 총 매수체결액\n",
    "tmdamt = instXAQueryT0425.GetFieldData(\"t0425OutBlock\", \"tmdamt\", 0) # 총 매도체결액\n",
    "print(\"총 주문수량 : %s, 총 체결수량 : %s, 총 주문금액 : %s, 총 매수액 : %s, 총 매도액 : %s\" % (tqty, tcheqty, tamt, tmsamt, tmdamt))\n",
    "\n",
    "count1 = instXAQueryT0425.GetBlockCount(\"t0425OutBlock1\")\n",
    "print(count1)\n",
    "print(\"TEST\")\n",
    "for i in range(count1):\n",
    "    ordno = instXAQueryT0425.GetFieldData(\"t0425OutBlock1\", \"ordno\", i) # 주문번호\n",
    "    expcode = instXAQueryT0425.GetFieldData(\"t0425OutBlock1\", \"expcode\", i) # 종목번호\n",
    "    medosu = instXAQueryT0425.GetFieldData(\"t0425OutBlock1\", \"medosu\", i) # 구분\n",
    "    qty = instXAQueryT0425.GetFieldData(\"t0425OutBlock1\", \"qty\", i) # 주문수량\n",
    "    price = instXAQueryT0425.GetFieldData(\"t0425OutBlock1\", \"price\", i) # 주문가격\n",
    "    cheqty = instXAQueryT0425.GetFieldData(\"t0425OutBlock1\", \"cheqty\", i) # 체결수량\n",
    "    cheprice = instXAQueryT0425.GetFieldData(\"t0425OutBlock1\", \"cheprice\", i) # 체결가격\n",
    "    ordrem = instXAQueryT0425.GetFieldData(\"t0425OutBlock1\", \"ordrem\", i) # 미체결 잔량\n",
    "    cfmqty = instXAQueryT0425.GetFieldData(\"t0425OutBlock1\", \"cfmqty\", i) # 확인 수량\n",
    "    status = instXAQueryT0425.GetFieldData(\"t0425OutBlock1\", \"status\", i) # 상태\n",
    "    print(\"TEST\")\n",
    "    print(i, ordno, expcode, medosu, qty, price, cheqty, cheprice, ordrem, cfmqty, status)"
   ]
  }
 ],
 "metadata": {
  "kernelspec": {
   "display_name": "Python 3",
   "language": "python",
   "name": "python3"
  },
  "language_info": {
   "codemirror_mode": {
    "name": "ipython",
    "version": 3
   },
   "file_extension": ".py",
   "mimetype": "text/x-python",
   "name": "python",
   "nbconvert_exporter": "python",
   "pygments_lexer": "ipython3",
   "version": "3.7.7"
  }
 },
 "nbformat": 4,
 "nbformat_minor": 4
}
