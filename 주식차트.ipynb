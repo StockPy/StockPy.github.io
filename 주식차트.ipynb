{
 "cells": [
  {
   "cell_type": "code",
   "execution_count": null,
   "metadata": {},
   "outputs": [],
   "source": [
    "# 주식 차트 (일, 주, 월)\n",
    "class XAQueryEventHandlerT8413:\n",
    "    query_state = 0\n",
    "\n",
    "    def OnReceiveData(self, code):\n",
    "        XAQueryEventHandlerT8413.query_state = 1\n",
    "\n",
    "instXAQueryT8413 = win32com.client.DispatchWithEvents(\"XA_DataSet.XAQuery\", XAQueryEventHandlerT8413)\n",
    "instXAQueryT8413.ResFileName = \"C:\\\\eBEST\\\\xingAPI\\\\Res\\\\t8413.res\"\n",
    "instXAQueryT8413.SetFieldData(\"t8413InBlock\", \"shcode\", 0, 123320) # XAQuery 인스턴스를 통해 SetFieldData라는 메서드를 호출한 후 적절한 인자 값을 지정\n",
    "instXAQueryT8413.SetFieldData(\"t8413InBlock\", \"gubun\", 0, 2)\n",
    "instXAQueryT8413.SetFieldData(\"t8413InBlock\",  \"qrycnt\", 0, 5)\n",
    "instXAQueryT8413.SetFieldData(\"t8413InBlock\", \"sdate\", 0, 20180101)\n",
    "instXAQueryT8413.SetFieldData(\"t8413InBlock\", \"edate\", 0, 20200630)\n",
    "instXAQueryT8413.SetFieldData(\"t8413InBlock\", \"comp_yn\", 0, \"N\")\n",
    "instXAQueryT8413.Request(0) # Request 메서드를 호출해서 입력 데이터를 서버로 전송\n",
    "\n",
    "while XAQueryEventHandlerT8413.query_state == 0: # 서버에 TR 요청을 했다면 해당 작업이 완료됐다는 이벤트를 받을 때까지 프로그램이 종료되지 않고 대기\n",
    "    pythoncom.PumpWaitingMessages()\n",
    "    # 이베스트투자증권의 서버는 TR 처리가 완료되면 OnReceiveData 메서드를 콜백합니다.\n",
    "    # 이로 인해 XAQueryEventHandlerT1102.query_state 값이 1로 변경되어 이벤트 대기 루프에서 exit\n",
    "\n",
    "count = instXAQueryT8413.GetBlockCount(\"t8413OutBlock\")\n",
    "count1 = instXAQueryT8413.GetBlockCount(\"t8413OutBlock1\")\n",
    "print(count)\n",
    "print(count1)\n",
    "\n",
    "shcode = instXAQueryT8413.GetFieldData(\"t8413OutBlock\", \"shcode\", 0)\n",
    "disiga = instXAQueryT8413.GetFieldData(\"t8413OutBlock\", \"disiga\", 0)\n",
    "diclose = instXAQueryT8413.GetFieldData(\"t8413OutBlock\", \"diclose\", 0)\n",
    "\n",
    "print(\"shcode : \", shcode)\n",
    "print(\"disiga : \", disiga)\n",
    "print(\"diclose : \", diclose)\n",
    "\n",
    "for i in range(count1):\n",
    "    date = instXAQueryT8413.GetFieldData(\"t8413OutBlock1\", \"date\", i)\n",
    "    open = instXAQueryT8413.GetFieldData(\"t8413OutBlock1\", \"open\", i)\n",
    "    close = instXAQueryT8413.GetFieldData(\"t8413OutBlock1\", \"close\", i)\n",
    "    jdiff_vol = instXAQueryT8413.GetFieldData(\"t8413OutBlock1\", \"jdiff_vol\", i)\n",
    "    print(i, date, open, close, jdiff_vol)"
   ]
  }
 ],
 "metadata": {
  "kernelspec": {
   "display_name": "Python 3",
   "language": "python",
   "name": "python3"
  },
  "language_info": {
   "codemirror_mode": {
    "name": "ipython",
    "version": 3
   },
   "file_extension": ".py",
   "mimetype": "text/x-python",
   "name": "python",
   "nbconvert_exporter": "python",
   "pygments_lexer": "ipython3",
   "version": "3.7.7"
  }
 },
 "nbformat": 4,
 "nbformat_minor": 4
}
