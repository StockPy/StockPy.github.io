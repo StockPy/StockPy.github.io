{
 "cells": [
  {
   "cell_type": "code",
   "execution_count": 10,
   "metadata": {},
   "outputs": [
    {
     "name": "stderr",
     "output_type": "stream",
     "text": [
      "ERROR: Could not find a version that satisfies the requirement google.cloud.bigquery.client (from versions: none)\n",
      "ERROR: No matching distribution found for google.cloud.bigquery.client\n"
     ]
    }
   ],
   "source": [
    "#!pip install --upgrade google-api-python-client google-auth-httplib2 google-auth-oauthlib\n",
    "#!pip install google.cloud\n",
    "#!pip install google.cloud.bigquery.client"
   ]
  },
  {
   "cell_type": "code",
   "execution_count": null,
   "metadata": {},
   "outputs": [],
   "source": [
    "\n",
    "Collecting google-api-python-client\n",
    "  Downloading google_api_python_client-1.10.0-py2.py3-none-any.whl (60 kB)\n",
    "Collecting google-auth-httplib2\n",
    "  Downloading google_auth_httplib2-0.0.4-py2.py3-none-any.whl (9.1 kB)\n",
    "Collecting google-auth-oauthlib\n",
    "  Downloading google_auth_oauthlib-0.4.1-py2.py3-none-any.whl (18 kB)\n",
    "Collecting google-auth>=1.16.0\n",
    "  Downloading google_auth-1.20.1-py2.py3-none-any.whl (91 kB)\n",
    "Requirement already satisfied, skipping upgrade: six<2dev,>=1.6.1 in c:\\users\\all users\\anaconda3\\lib\\site-packages (from google-api-python-client) (1.15.0)\n",
    "Collecting httplib2<1dev,>=0.9.2\n",
    "  Downloading httplib2-0.18.1-py3-none-any.whl (95 kB)\n",
    "Collecting uritemplate<4dev,>=3.0.0\n",
    "  Downloading uritemplate-3.0.1-py2.py3-none-any.whl (15 kB)\n",
    "Collecting google-api-core<2dev,>=1.18.0\n",
    "  Downloading google_api_core-1.22.1-py2.py3-none-any.whl (91 kB)\n",
    "Requirement already satisfied, skipping upgrade: requests-oauthlib>=0.7.0 in c:\\users\\all users\\anaconda3\\lib\\site-packages (from google-auth-oauthlib) (1.3.0)\n",
    "Collecting rsa<5,>=3.1.4; python_version >= \"3.5\"\n",
    "  Downloading rsa-4.6-py3-none-any.whl (47 kB)\n",
    "Requirement already satisfied, skipping upgrade: setuptools>=40.3.0 in c:\\users\\all users\\anaconda3\\lib\\site-packages (from google-auth>=1.16.0->google-api-python-client) (47.3.0.post20200616)\n",
    "Collecting cachetools<5.0,>=2.0.0\n",
    "  Downloading cachetools-4.1.1-py3-none-any.whl (10 kB)\n",
    "Collecting pyasn1-modules>=0.2.1\n",
    "  Downloading pyasn1_modules-0.2.8-py2.py3-none-any.whl (155 kB)\n",
    "Collecting protobuf>=3.12.0\n",
    "  Downloading protobuf-3.13.0-cp37-cp37m-win32.whl (908 kB)\n",
    "Requirement already satisfied, skipping upgrade: requests<3.0.0dev,>=2.18.0 in c:\\users\\all users\\anaconda3\\lib\\site-packages (from google-api-core<2dev,>=1.18.0->google-api-python-client) (2.23.0)\n",
    "Requirement already satisfied, skipping upgrade: pytz in c:\\users\\all users\\anaconda3\\lib\\site-packages (from google-api-core<2dev,>=1.18.0->google-api-python-client) (2020.1)\n",
    "Collecting googleapis-common-protos<2.0dev,>=1.6.0\n",
    "  Downloading googleapis_common_protos-1.52.0-py2.py3-none-any.whl (100 kB)\n",
    "Requirement already satisfied, skipping upgrade: oauthlib>=3.0.0 in c:\\users\\all users\\anaconda3\\lib\\site-packages (from requests-oauthlib>=0.7.0->google-auth-oauthlib) (3.1.0)\n",
    "Collecting pyasn1>=0.1.3\n",
    "  Downloading pyasn1-0.4.8-py2.py3-none-any.whl (77 kB)\n",
    "Requirement already satisfied, skipping upgrade: idna<3,>=2.5 in c:\\users\\all users\\anaconda3\\lib\\site-packages (from requests<3.0.0dev,>=2.18.0->google-api-core<2dev,>=1.18.0->google-api-python-client) (2.9)\n",
    "Requirement already satisfied, skipping upgrade: chardet<4,>=3.0.2 in c:\\users\\all users\\anaconda3\\lib\\site-packages (from requests<3.0.0dev,>=2.18.0->google-api-core<2dev,>=1.18.0->google-api-python-client) (3.0.4)\n",
    "Requirement already satisfied, skipping upgrade: certifi>=2017.4.17 in c:\\users\\all users\\anaconda3\\lib\\site-packages (from requests<3.0.0dev,>=2.18.0->google-api-core<2dev,>=1.18.0->google-api-python-client) (2020.4.5.2)\n",
    "Requirement already satisfied, skipping upgrade: urllib3!=1.25.0,!=1.25.1,<1.26,>=1.21.1 in c:\\users\\all users\\anaconda3\\lib\\site-packages (from requests<3.0.0dev,>=2.18.0->google-api-core<2dev,>=1.18.0->google-api-python-client) (1.25.9)\n",
    "Installing collected packages: pyasn1, rsa, cachetools, pyasn1-modules, google-auth, httplib2, uritemplate, protobuf, googleapis-common-protos, google-api-core, google-auth-httplib2, google-api-python-client, google-auth-oauthlib\n",
    "Successfully installed cachetools-4.1.1 google-api-core-1.22.1 google-api-python-client-1.10.0 google-auth-1.20.1 google-auth-httplib2-0.0.4 google-auth-oauthlib-0.4.1 googleapis-common-protos-1.52.0 httplib2-0.18.1 protobuf-3.13.0 pyasn1-0.4.8 pyasn1-modules-0.2.8 rsa-4.6 uritemplate-3.0.1"
   ]
  },
  {
   "cell_type": "code",
   "execution_count": 2,
   "metadata": {},
   "outputs": [
    {
     "name": "stdout",
     "output_type": "stream",
     "text": [
      "Files:\n",
      "Yahoo 주가 불러오기 - 주간, 월간 (1MTFF8CqRNWNulVlxRUI-viXC1P_cv_C6LX5MVH4dMqc)\n",
      "구매내역 (1mAMKmieICzGe7RVT99m_qnrhYLO946AthUr5JtV7M84)\n",
      "부동산_ETC (1nvo62kO2FoZqjaPDdFU4R9sZbd-ESU76rFaOC_GYAsU)\n",
      "나바호킴 샌프란시스코 여행지도, San Francisco , (1zCo8v4UB1Wqeu2b8qXUe0UQ9MQs)\n",
      "Notepad_정리.zip (1l5oF-ttlzFkQRgwvzColzaAWOhhpKzsp)\n",
      "Oracle.zip (1Rh3wX21bLIQwbrFofZ8GXJoOa63JLuFb)\n",
      "MP3 제목 수정 (1An_f_TO8Q83dSl_eiEQY5uj7Q8DSO8mBGpnElstWNu4)\n",
      "jwFreeNote_20200815.zip (1faHiUADehoYbt2z1CvvwkiS-Me4ZG2qZ)\n",
      "Untitled (1AJpIkR7L-sD_fZyBBppj-UHiXNdCVdZJ)\n",
      "물먹는하마_20200817 (1gFgvnnOHvAoHQdOAwp9NkxY0UwGM-wZPcpqQ_i92Aiw)\n",
      "TEST\n"
     ]
    }
   ],
   "source": [
    "# GOOGLE_APPLICATION_CREDENTIALS 설정을 해야하며\n",
    "# 설정관련 json파일은 Service Account에 대한 json파일\n",
    "# HttpError 500 google drivce\n",
    "# https://console.developers.google.com/apis/api/drive.googleapis.com/metrics?project=stockpy-1597758272990\n",
    "\n",
    "from __future__ import print_function\n",
    "import pickle\n",
    "import os.path\n",
    "from googleapiclient.discovery import build\n",
    "from google_auth_oauthlib.flow import InstalledAppFlow\n",
    "from google.auth.transport.requests import Request\n",
    "from apiclient.http import MediaFileUpload\n",
    "# from google.cloud.bigquery.client import Client\n",
    "import os\n",
    "\n",
    "def implicit():\n",
    "    from google.cloud import storage\n",
    "\n",
    "    # If you don't specify credentials when constructing the client, the\n",
    "    # client library will look for credentials in the environment.\n",
    "    storage_client = storage.Client()\n",
    "\n",
    "    # Make an authenticated API request\n",
    "    buckets = list(storage_client.list_buckets())\n",
    "    print(buckets)\n",
    "\n",
    "# If modifying these scopes, delete the file token.pickle.\n",
    "# SCOPES = ['https://www.googleapis.com/auth/drive.metadata.readonly']\n",
    "SCOPES = ['https://www.googleapis.com/auth/drive.metadata']\n",
    "\n",
    "def main():\n",
    "    \"\"\"Shows basic usage of the Drive v3 API.\n",
    "    Prints the names and ids of the first 10 files the user has access to.\n",
    "    \"\"\"\n",
    "    creds = None\n",
    "    # The file token.pickle stores the user's access and refresh tokens, and is\n",
    "    # created automatically when the authorization flow completes for the first\n",
    "    # time.\n",
    "    if os.path.exists('token.pickle'):\n",
    "        with open('token.pickle', 'rb') as token:\n",
    "            creds = pickle.load(token)\n",
    "    # If there are no (valid) credentials available, let the user log in.\n",
    "    if not creds or not creds.valid:\n",
    "        if creds and creds.expired and creds.refresh_token:\n",
    "            creds.refresh(Request())\n",
    "        else:\n",
    "            flow = InstalledAppFlow.from_client_secrets_file(\n",
    "                'credentials.json', SCOPES)\n",
    "            creds = flow.run_local_server(port=0)\n",
    "        # Save the credentials for the next run\n",
    "        with open('token.pickle', 'wb') as token:\n",
    "            pickle.dump(creds, token)\n",
    "\n",
    "    service = build('drive', 'v3', credentials=creds)\n",
    "\n",
    "    # Call the Drive v3 API\n",
    "    results = service.files().list(\n",
    "        pageSize=10, fields=\"nextPageToken, files(id, name)\").execute()\n",
    "    items = results.get('files', [])\n",
    "\n",
    "    if not items:\n",
    "        print('No files found.')\n",
    "    else:\n",
    "        print('Files:')\n",
    "        for item in items:\n",
    "            print(u'{0} ({1})'.format(item['name'], item['id']))\n",
    "\n",
    "if __name__ == '__main__':\n",
    "    main()\n",
    "    print(\"TEST\")\n",
    "    # 1pfYf3F4VfIowiIrPk4bRdlQFUdpqHRb4UG_ikZmj6WY\n",
    "    # 1HWmUcUUG__vmhYttGOC4wZQcDPfa77Slr_EFJvqQkRs\n",
    "    \n"
   ]
  },
  {
   "cell_type": "code",
   "execution_count": null,
   "metadata": {},
   "outputs": [],
   "source": []
  },
  {
   "cell_type": "code",
   "execution_count": null,
   "metadata": {},
   "outputs": [],
   "source": []
  }
 ],
 "metadata": {
  "kernelspec": {
   "display_name": "Python 3",
   "language": "python",
   "name": "python3"
  },
  "language_info": {
   "codemirror_mode": {
    "name": "ipython",
    "version": 3
   },
   "file_extension": ".py",
   "mimetype": "text/x-python",
   "name": "python",
   "nbconvert_exporter": "python",
   "pygments_lexer": "ipython3",
   "version": "3.7.7"
  }
 },
 "nbformat": 4,
 "nbformat_minor": 4
}
