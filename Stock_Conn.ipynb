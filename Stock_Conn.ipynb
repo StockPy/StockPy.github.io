{
 "cells": [
  {
   "cell_type": "code",
   "execution_count": 1,
   "metadata": {},
   "outputs": [
    {
     "ename": "SyntaxError",
     "evalue": "invalid syntax (<ipython-input-1-db473bb97c76>, line 4)",
     "output_type": "error",
     "traceback": [
      "\u001b[1;36m  File \u001b[1;32m\"<ipython-input-1-db473bb97c76>\"\u001b[1;36m, line \u001b[1;32m4\u001b[0m\n\u001b[1;33m    from ipynb.fs.full.<notebook_name> import *\u001b[0m\n\u001b[1;37m                       ^\u001b[0m\n\u001b[1;31mSyntaxError\u001b[0m\u001b[1;31m:\u001b[0m invalid syntax\n"
     ]
    }
   ],
   "source": [
    "# %run MyOtherNotebook.ipynb\n",
    "\n",
    "!pip install ipynb\n",
    "from ipynb.fs.full.<notebook_name> import *\n",
    "from ipynb.fs.full.<notebook_name> import <function_name>\n",
    "\n",
    "pip install import-ipynb\n",
    "import import_ipynb\n",
    "import MyOtherNotebook"
   ]
  },
  {
   "cell_type": "code",
   "execution_count": 2,
   "metadata": {},
   "outputs": [],
   "source": [
    "import os\n",
    "import win32com.client\n",
    "import pythoncom"
   ]
  },
  {
   "cell_type": "code",
   "execution_count": 3,
   "metadata": {},
   "outputs": [],
   "source": [
    "class XASessionEventHandler:\n",
    "    login_state = 0\n",
    "\n",
    "    def OnLogin(self, code, msg):\n",
    "        if code == \"0000\":\n",
    "            print(\"로그인 성공\")\n",
    "            XASessionEventHandler.login_state = 1\n",
    "        else:\n",
    "            print(\"로그인 실패\")"
   ]
  },
  {
   "cell_type": "code",
   "execution_count": 4,
   "metadata": {},
   "outputs": [],
   "source": [
    "instXASession = win32com.client.DispatchWithEvents(\"XA_Session.XASession\", XASessionEventHandler)"
   ]
  },
  {
   "cell_type": "code",
   "execution_count": 5,
   "metadata": {},
   "outputs": [],
   "source": [
    "#id, passwd, cert_passwd = \"cchoi\", \"1234a\", \"\"\n",
    "id, passwd, cert_passwd = \"cchoi\", \"dlfdl12\", \"dlftka13!#\""
   ]
  },
  {
   "cell_type": "code",
   "execution_count": 6,
   "metadata": {},
   "outputs": [
    {
     "data": {
      "text/plain": [
       "True"
      ]
     },
     "execution_count": 6,
     "metadata": {},
     "output_type": "execute_result"
    }
   ],
   "source": [
    "# 접속할 서버의 기본 주소는 'hts.ebestsec.co.kr'인데 모의 투자인 경우에는 'demo.ebestsec.co.kr'을 사용하면 됩니다.\n",
    "#instXASession.ConnectServer(\"demo.ebestsec.co.kr\", 20001) # 211.216.52.129 (dev-center), 211.216.52.140 (XingACE), 211.216.52.135 (???)\n",
    "instXASession.ConnectServer(\"hts.ebestsec.co.kr\", 20001)\n",
    "#instXASession.ConnectServer(\"211.216.52.140\", 20001) # 211.216.52.129 (dev-center), 211.216.52.140 (XingACE), 211.216.52.135 (???)\n",
    "#instXASession.ConnectServer(\"211.216.52.129\", 20001) # 211.216.52.129 (dev-center), 211.216.52.140 (XingACE), 211.216.52.135 (???)\n",
    "instXASession.Login(id, passwd, cert_passwd, 0, 0)"
   ]
  },
  {
   "cell_type": "code",
   "execution_count": 7,
   "metadata": {},
   "outputs": [
    {
     "name": "stdout",
     "output_type": "stream",
     "text": [
      "로그인 성공\n"
     ]
    }
   ],
   "source": [
    "while XASessionEventHandler.login_state == 0:\n",
    "    pythoncom.PumpWaitingMessages()"
   ]
  },
  {
   "cell_type": "code",
   "execution_count": 8,
   "metadata": {},
   "outputs": [
    {
     "name": "stdout",
     "output_type": "stream",
     "text": [
      "00101753258\n",
      "00146753258\n",
      "10011702835\n",
      "00445100633\n",
      "20053468601\n",
      "20053468605\n",
      "20053468606\n"
     ]
    }
   ],
   "source": [
    "num_account = instXASession.GetAccountListCount()\n",
    "for i in range(num_account):\n",
    "    account = instXASession.GetAccountList(i)\n",
    "    print(account)\n",
    "    \n",
    "# 계좌번호 : 55501053242\n",
    "# 00101753258\n",
    "# 00146753258\n",
    "# 10011702835 - 일반\n",
    "# 00445100633 - 외화\n",
    "# 20053468601\n",
    "# 20053468605\n",
    "# 20053468606 - 비과세해외\n",
    "\n",
    "# 55501053242 - demo"
   ]
  },
  {
   "cell_type": "code",
   "execution_count": 53,
   "metadata": {},
   "outputs": [
    {
     "name": "stdout",
     "output_type": "stream",
     "text": [
      "OnreceiveMessage 0 00000 조회완료\n",
      "과거 우선주 count 개수 : 300\n",
      "005380\n"
     ]
    },
    {
     "ename": "NameError",
     "evalue": "name 'TEST_005380' is not defined",
     "output_type": "error",
     "traceback": [
      "\u001b[1;31m---------------------------------------------------------------------------\u001b[0m",
      "\u001b[1;31mNameError\u001b[0m                                 Traceback (most recent call last)",
      "\u001b[1;32m<ipython-input-53-0bdf71964ea1>\u001b[0m in \u001b[0;36m<module>\u001b[1;34m\u001b[0m\n\u001b[0;32m    126\u001b[0m \u001b[1;31m# Preferred_Expcode_List_1 = [\"005380\", \"005387\", \"051910\", \"051915\"]\u001b[0m\u001b[1;33m\u001b[0m\u001b[1;33m\u001b[0m\u001b[1;33m\u001b[0m\u001b[0m\n\u001b[0;32m    127\u001b[0m \u001b[0mname_TEST\u001b[0m \u001b[1;33m=\u001b[0m \u001b[1;34m\"a\"\u001b[0m\u001b[1;33m\u001b[0m\u001b[1;33m\u001b[0m\u001b[0m\n\u001b[1;32m--> 128\u001b[1;33m \u001b[0mvalue_TEST\u001b[0m \u001b[1;33m=\u001b[0m \u001b[0m__Preferred_Stock\u001b[0m\u001b[1;33m(\u001b[0m\u001b[1;33m)\u001b[0m\u001b[1;33m\u001b[0m\u001b[1;33m\u001b[0m\u001b[0m\n\u001b[0m\u001b[0;32m    129\u001b[0m \u001b[0ma_dictionary\u001b[0m \u001b[1;33m=\u001b[0m \u001b[1;33m{\u001b[0m\u001b[0mname_TEST\u001b[0m\u001b[1;33m:\u001b[0m \u001b[0mvalue_TEST\u001b[0m\u001b[1;33m}\u001b[0m\u001b[1;33m\u001b[0m\u001b[1;33m\u001b[0m\u001b[0m\n\u001b[0;32m    130\u001b[0m \u001b[0mprint\u001b[0m\u001b[1;33m(\u001b[0m\u001b[1;34m\"TEST Val : %s\"\u001b[0m \u001b[1;33m%\u001b[0m \u001b[0ma_dictionary\u001b[0m\u001b[1;33m[\u001b[0m\u001b[1;34m\"a\"\u001b[0m\u001b[1;33m]\u001b[0m\u001b[1;33m)\u001b[0m\u001b[1;33m\u001b[0m\u001b[1;33m\u001b[0m\u001b[0m\n",
      "\u001b[1;32m<ipython-input-53-0bdf71964ea1>\u001b[0m in \u001b[0;36m__Preferred_Stock\u001b[1;34m()\u001b[0m\n\u001b[0;32m     75\u001b[0m         \u001b[0mprint\u001b[0m\u001b[1;33m(\u001b[0m\u001b[0mstr\u001b[0m\u001b[1;33m(\u001b[0m\u001b[0mexpcode\u001b[0m\u001b[1;33m)\u001b[0m\u001b[1;33m)\u001b[0m\u001b[1;33m\u001b[0m\u001b[1;33m\u001b[0m\u001b[0m\n\u001b[0;32m     76\u001b[0m         \u001b[0mlocals\u001b[0m\u001b[1;33m(\u001b[0m\u001b[1;33m)\u001b[0m\u001b[1;33m[\u001b[0m\u001b[1;34m\"TEST_\"\u001b[0m \u001b[1;33m+\u001b[0m \u001b[0mstr\u001b[0m\u001b[1;33m(\u001b[0m\u001b[0mexpcode\u001b[0m\u001b[1;33m)\u001b[0m \u001b[1;33m]\u001b[0m \u001b[1;33m=\u001b[0m \u001b[1;34m\"TEST123455432\"\u001b[0m\u001b[1;33m\u001b[0m\u001b[1;33m\u001b[0m\u001b[0m\n\u001b[1;32m---> 77\u001b[1;33m         \u001b[0mprint\u001b[0m\u001b[1;33m(\u001b[0m\u001b[0mTEST_005380\u001b[0m\u001b[1;33m)\u001b[0m\u001b[1;33m\u001b[0m\u001b[1;33m\u001b[0m\u001b[0m\n\u001b[0m\u001b[0;32m     78\u001b[0m \u001b[1;33m\u001b[0m\u001b[0m\n\u001b[0;32m     79\u001b[0m         \u001b[0ma_has_items\u001b[0m \u001b[1;33m=\u001b[0m \u001b[0mbool\u001b[0m\u001b[1;33m(\u001b[0m\u001b[0mDaily_Change_Pref_a\u001b[0m\u001b[1;33m)\u001b[0m\u001b[1;33m\u001b[0m\u001b[1;33m\u001b[0m\u001b[0m\n",
      "\u001b[1;31mNameError\u001b[0m: name 'TEST_005380' is not defined"
     ]
    }
   ],
   "source": [
    "import os\n",
    "import winsound         # for sound  \n",
    "import time             # for sleep\n",
    "import win32com.client\n",
    "import pythoncom\n",
    "import datetime, time# for sleep\n",
    "import sys\n",
    "import pickle\n",
    "import os.path\n",
    "from os import path\n",
    "import pandas as pd # command 로 시작할 때는 모듈 import 위치고려\n",
    "from datetime import timedelta\n",
    "from googleapiclient.discovery import build\n",
    "from google_auth_oauthlib.flow import InstalledAppFlow\n",
    "from google.auth.transport.requests import Request\n",
    "from apiclient.http import MediaFileUpload\n",
    "\n",
    "import base64\n",
    "from github import Github\n",
    "from github import InputGitTreeElement\n",
    "\n",
    "def __Preferred_Stock() :\n",
    "    \n",
    "    # Long_Term_Dic = {}\n",
    "    \n",
    "#     for x in range(0,2) :\n",
    "#         print(\"string{0}\".format(x))\n",
    "\n",
    "    Daily_Change_Pref_a, Daily_Change_Pref_b = {}, {}\n",
    "\n",
    "    for expcode in Preferred_Expcode_List_1 :\n",
    "        time.sleep(1)\n",
    "        ##################################################\n",
    "        # 주식 현재가 호가 조회\n",
    "        class XAQueryEventHandlerT1305:\n",
    "            query_state = 0\n",
    "\n",
    "            def OnReceiveData(self, code):\n",
    "                XAQueryEventHandlerT1305.query_state = 1\n",
    "\n",
    "            def OnReceiveMessage(self, error, code, message):\n",
    "                print(\"OnreceiveMessage\", error, code, message)\n",
    "\n",
    "        ##################################################\n",
    "        instXAQueryT1305 = win32com.client.DispatchWithEvents(\"XA_DataSet.XAQuery\", XAQueryEventHandlerT1305)\n",
    "        instXAQueryT1305.ResFileName = \"C:\\\\eBEST\\\\xingAPI\\\\Res\\\\T1305.res\"\n",
    "        instXAQueryT1305.SetFieldData(\"T1305InBlock\", \"shcode\", 0, expcode)\n",
    "        instXAQueryT1305.SetFieldData(\"T1305InBlock\", \"dwmcode\", 0, 1)\n",
    "        instXAQueryT1305.SetFieldData(\"T1305InBlock\", \"cnt\", 0, 365)\n",
    "\n",
    "        instXAQueryT1305.Request(0) # Request 메서드를 호출해서 입력 데이터를 서버로 전송\n",
    "\n",
    "        while XAQueryEventHandlerT1305.query_state == 0: # 서버에 TR 요청을 했다면 해당 작업이 완료됐다는 이벤트를 받을 때까지 프로그램이 종료되지 않고 대기\n",
    "            pythoncom.PumpWaitingMessages()\n",
    "\n",
    "        count = instXAQueryT1305.GetBlockCount(\"t1305OutBlock1\")\n",
    "\n",
    "        date_list, open_list, close_list, change_list, diff_list = [], [], [], [], []\n",
    "        df_Daily_Change_Pref = pd.DataFrame()\n",
    "        print(\"과거 우선주 count 개수 : %s\" % count)\n",
    "        for i in range(count):\n",
    "            date = instXAQueryT1305.GetFieldData(\"T1305OutBlock1\", \"date\", i)\n",
    "            close = instXAQueryT1305.GetFieldData(\"T1305OutBlock1\", \"close\", i)\n",
    "            change = instXAQueryT1305.GetFieldData(\"T1305OutBlock1\", \"change\", i) # 전일대비\n",
    "            diff = instXAQueryT1305.GetFieldData(\"T1305OutBlock1\", \"diff\", i) # 등락율\n",
    "            date_list.append(date)\n",
    "            close_list.append(close)\n",
    "            change_list.append(change)\n",
    "            diff_list.append(diff)\n",
    "\n",
    "        Daily_Change_Pref = {'date' : date_list, 'close' : close_list, 'change' : change_list, 'diff' : diff_list} # ---> for문에서 list로 받은 후 dictionary로 생성\n",
    "        Daily_Change_Pref[\"diff\"] = pd.to_numeric(Daily_Change_Pref[\"diff\"]) # 변환 안해주면 ---> TypeError: unsupported operand type(s) for -: 'list' and 'list'\n",
    "        Daily_Change_Pref[\"close\"] = pd.to_numeric(Daily_Change_Pref[\"close\"]) # 변환 안해주면 ---> TypeError: unsupported operand type(s) for -: 'list' and 'list'\n",
    "        \n",
    "        print(str(expcode))\n",
    "        locals()[\"TEST_\" + str(expcode) ] = \"TEST123455432\"\n",
    "        print(TEST_005380)\n",
    "        \n",
    "        a_has_items = bool(Daily_Change_Pref_a)\n",
    "        b_has_items = bool(Daily_Change_Pref_b)\n",
    "        if not a_has_items :\n",
    "#             print(\"A is empty : %s\" % a_has_items)\n",
    "            Daily_Change_Pref_a = Daily_Change_Pref\n",
    "        elif not b_has_items :\n",
    "#             print(\"B is empty : %s\" % b_has_items)\n",
    "            Daily_Change_Pref_b = Daily_Change_Pref\n",
    "        else :\n",
    "            print(\"ELSE Statement\")\n",
    "        \n",
    "        instXAQueryT1305.close()\n",
    "\n",
    "    # df_Daily_Change_Pref_a = pd.DataFrame()\n",
    "    df_Daily_Change_Pref_a = pd.DataFrame(Daily_Change_Pref_a) # 보통주\n",
    "    df_Daily_Change_Pref_b = pd.DataFrame(Daily_Change_Pref_b) # 우선주\n",
    "    \n",
    "    df_Daily_Change_Pref_a[\"date2\"] = df_Daily_Change_Pref_b[\"date\"] # 우선주 날짜\n",
    "    df_Daily_Change_Pref_a[\"close2\"] = df_Daily_Change_Pref_b[\"close\"] # 우선주 종가\n",
    "    df_Daily_Change_Pref_a[\"change2\"] = df_Daily_Change_Pref_b[\"change\"] # 우선주 전일대비\n",
    "    df_Daily_Change_Pref_a[\"diff2\"] = df_Daily_Change_Pref_b[\"diff\"] # 우선주 등락율\n",
    "    df_Daily_Change_Pref_a[\"Diff_Close\"] = round((df_Daily_Change_Pref_a[\"close\"] - df_Daily_Change_Pref_a[\"close2\"]) / df_Daily_Change_Pref_a[\"close2\"] * 100, 1)\n",
    "    \n",
    "    # print(df_Daily_Change_Pref_a)\n",
    "    # df_Daily_Change = df_Daily_Change[df_Daily_Change[\"diff\"] < 0] # ---> minus 인 날만 list\n",
    "    Min_Diff = round(df_Daily_Change_Pref_a[df_Daily_Change_Pref_a[\"Diff_Close\"]==df_Daily_Change_Pref_a[\"Diff_Close\"].min()], 1) # ---> minus 인 날 중 최대 min은 제외\n",
    "    Max_Diff = round(df_Daily_Change_Pref_a[df_Daily_Change_Pref_a[\"Diff_Close\"]==df_Daily_Change_Pref_a[\"Diff_Close\"].max()], 1) # ---> minus 인 날 중 최대 min은 제외\n",
    "\n",
    "    preferred_diff = round(df_Daily_Change_Pref_a[\"Diff_Close\"].mean(), 1)\n",
    "    preferred_diff_Max = round(df_Daily_Change_Pref_a[\"Diff_Close\"].max(), 1)\n",
    "\n",
    "    # 평균 1.3이상으로하면 max값보다 상회 ---> 값 평균과 max가 그리 차이가 안남\n",
    "    # max와 평균값의 평균값으로Perferred_Diff_expect = round(preferred_diff * 1.15, 1)\n",
    "    Perferred_Diff_expect_1 = round(preferred_diff * 1.15, 1)\n",
    "    Perferred_Diff_expect_2 = round((preferred_diff + preferred_diff_Max) / 2, 1)\n",
    "    Perferred_Diff_expect_3 = round((Perferred_Diff_expect_2 + preferred_diff_Max) / 2, 1)\n",
    "    Perferred_Diff_expect_4 = round((Perferred_Diff_expect_3 + preferred_diff_Max) / 2, 1)\n",
    "\n",
    "    print(\"매수 계획값 1 : %s\" % Perferred_Diff_expect_1)\n",
    "    print(\"매수 계획값 2 : %s\" % Perferred_Diff_expect_2)\n",
    "    print(\"매수 계획값 3 : %s\" % Perferred_Diff_expect_3)\n",
    "    print(\"매수 계획값 4 : %s\" % Perferred_Diff_expect_4)\n",
    "    \n",
    "    return Perferred_Diff_expect_2 # 3번에서 2번으로 수정 (2021.01.01)\n",
    "\n",
    "# lg화학 (051910, 051915)\n",
    "Preferred_Expcode_List_1 = [\"005380\", \"005387\"]\n",
    "# Preferred_Expcode_List_1 = [\"005380\", \"005387\", \"051910\", \"051915\"]\n",
    "name_TEST = \"a\"\n",
    "value_TEST = __Preferred_Stock()\n",
    "a_dictionary = {name_TEST: value_TEST}\n",
    "print(\"TEST Val : %s\" % a_dictionary[\"a\"])\n",
    "\n",
    "# value_TEST = __Preferred_Stock()\n",
    "# Preferred_Expcode = {\"현대차\" : \"005380\", \"현대우2B\" : \"005387\", \"GAP\" : Value_TEST}\n",
    "\n",
    "# a = {}\n",
    "# for idx, val in enumerate(Preferred_Expcode_List_1) :\n",
    "#     print(\"%s\" % val)\n",
    "#     a[val] = __Preferred_Stock()\n",
    "# print(a)\n",
    "\n",
    "exp_test = [\"현대차\", \"lg화학\"]\n",
    "현대차_list = [\"005380\", \"005387\"]\n",
    "lg화학_list = [\"051910\", \"051915\"]\n",
    "\n",
    "for idx, expcode in enumerate(exp_test) :\n",
    "    print(idx, val)\n",
    "    locals()[\"TEST_\" + str(expcode) ] = \"TEST123455432\"\n",
    "    \n",
    "print(TEST_현대차0)\n",
    "print(TEST_lg화학1)\n"
   ]
  },
  {
   "cell_type": "code",
   "execution_count": null,
   "metadata": {},
   "outputs": [],
   "source": []
  }
 ],
 "metadata": {
  "kernelspec": {
   "display_name": "Python 3",
   "language": "python",
   "name": "python3"
  },
  "language_info": {
   "codemirror_mode": {
    "name": "ipython",
    "version": 3
   },
   "file_extension": ".py",
   "mimetype": "text/x-python",
   "name": "python",
   "nbconvert_exporter": "python",
   "pygments_lexer": "ipython3",
   "version": "3.7.7"
  }
 },
 "nbformat": 4,
 "nbformat_minor": 4
}
