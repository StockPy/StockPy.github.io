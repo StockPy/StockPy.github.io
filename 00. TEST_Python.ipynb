{
 "cells": [
  {
   "cell_type": "code",
   "execution_count": 2,
   "metadata": {},
   "outputs": [
    {
     "name": "stdout",
     "output_type": "stream",
     "text": [
      "Requirement already satisfied: ipynb in c:\\users\\all users\\anaconda3\\lib\\site-packages (0.5.1)\n"
     ]
    }
   ],
   "source": [
    "# !pip install oauth2client\n",
    "\n",
    "# !pip install python-ipynb\n",
    "!pip install ipynb"
   ]
  },
  {
   "cell_type": "code",
   "execution_count": 11,
   "metadata": {},
   "outputs": [
    {
     "ename": "KeyError",
     "evalue": "'_module'",
     "output_type": "error",
     "traceback": [
      "\u001b[1;31m---------------------------------------------------------------------------\u001b[0m",
      "\u001b[1;31mKeyError\u001b[0m                                  Traceback (most recent call last)",
      "\u001b[1;32m<ipython-input-11-9f12cfe70a48>\u001b[0m in \u001b[0;36m<module>\u001b[1;34m\u001b[0m\n\u001b[0;32m     16\u001b[0m \u001b[0mSCOPES\u001b[0m \u001b[1;33m=\u001b[0m \u001b[1;34m'https://www.googleapis.com/auth/drive.file'\u001b[0m\u001b[1;33m\u001b[0m\u001b[1;33m\u001b[0m\u001b[0m\n\u001b[0;32m     17\u001b[0m \u001b[0mstore\u001b[0m \u001b[1;33m=\u001b[0m \u001b[0mfile\u001b[0m\u001b[1;33m.\u001b[0m\u001b[0mStorage\u001b[0m\u001b[1;33m(\u001b[0m\u001b[1;34m'credentials.json'\u001b[0m\u001b[1;33m)\u001b[0m\u001b[1;33m\u001b[0m\u001b[1;33m\u001b[0m\u001b[0m\n\u001b[1;32m---> 18\u001b[1;33m \u001b[0mcreds\u001b[0m \u001b[1;33m=\u001b[0m \u001b[0mstore\u001b[0m\u001b[1;33m.\u001b[0m\u001b[0mget\u001b[0m\u001b[1;33m(\u001b[0m\u001b[1;33m)\u001b[0m\u001b[1;33m\u001b[0m\u001b[1;33m\u001b[0m\u001b[0m\n\u001b[0m\u001b[0;32m     19\u001b[0m \u001b[1;32mif\u001b[0m \u001b[1;32mnot\u001b[0m \u001b[0mcreds\u001b[0m \u001b[1;32mor\u001b[0m \u001b[0mcreds\u001b[0m\u001b[1;33m.\u001b[0m\u001b[0minvalid\u001b[0m\u001b[1;33m:\u001b[0m\u001b[1;33m\u001b[0m\u001b[1;33m\u001b[0m\u001b[0m\n\u001b[0;32m     20\u001b[0m     \u001b[0mflow\u001b[0m \u001b[1;33m=\u001b[0m \u001b[0mclient\u001b[0m\u001b[1;33m.\u001b[0m\u001b[0mflow_from_clientsecrets\u001b[0m\u001b[1;33m(\u001b[0m\u001b[1;34m'client_secret.json'\u001b[0m\u001b[1;33m,\u001b[0m \u001b[0mSCOPES\u001b[0m\u001b[1;33m)\u001b[0m\u001b[1;33m\u001b[0m\u001b[1;33m\u001b[0m\u001b[0m\n",
      "\u001b[1;32mC:\\Users\\All Users\\Anaconda3\\lib\\site-packages\\oauth2client\\client.py\u001b[0m in \u001b[0;36mget\u001b[1;34m(self)\u001b[0m\n\u001b[0;32m    405\u001b[0m         \u001b[0mself\u001b[0m\u001b[1;33m.\u001b[0m\u001b[0macquire_lock\u001b[0m\u001b[1;33m(\u001b[0m\u001b[1;33m)\u001b[0m\u001b[1;33m\u001b[0m\u001b[1;33m\u001b[0m\u001b[0m\n\u001b[0;32m    406\u001b[0m         \u001b[1;32mtry\u001b[0m\u001b[1;33m:\u001b[0m\u001b[1;33m\u001b[0m\u001b[1;33m\u001b[0m\u001b[0m\n\u001b[1;32m--> 407\u001b[1;33m             \u001b[1;32mreturn\u001b[0m \u001b[0mself\u001b[0m\u001b[1;33m.\u001b[0m\u001b[0mlocked_get\u001b[0m\u001b[1;33m(\u001b[0m\u001b[1;33m)\u001b[0m\u001b[1;33m\u001b[0m\u001b[1;33m\u001b[0m\u001b[0m\n\u001b[0m\u001b[0;32m    408\u001b[0m         \u001b[1;32mfinally\u001b[0m\u001b[1;33m:\u001b[0m\u001b[1;33m\u001b[0m\u001b[1;33m\u001b[0m\u001b[0m\n\u001b[0;32m    409\u001b[0m             \u001b[0mself\u001b[0m\u001b[1;33m.\u001b[0m\u001b[0mrelease_lock\u001b[0m\u001b[1;33m(\u001b[0m\u001b[1;33m)\u001b[0m\u001b[1;33m\u001b[0m\u001b[1;33m\u001b[0m\u001b[0m\n",
      "\u001b[1;32mC:\\Users\\All Users\\Anaconda3\\lib\\site-packages\\oauth2client\\file.py\u001b[0m in \u001b[0;36mlocked_get\u001b[1;34m(self)\u001b[0m\n\u001b[0;32m     52\u001b[0m \u001b[1;33m\u001b[0m\u001b[0m\n\u001b[0;32m     53\u001b[0m         \u001b[1;32mtry\u001b[0m\u001b[1;33m:\u001b[0m\u001b[1;33m\u001b[0m\u001b[1;33m\u001b[0m\u001b[0m\n\u001b[1;32m---> 54\u001b[1;33m             \u001b[0mcredentials\u001b[0m \u001b[1;33m=\u001b[0m \u001b[0mclient\u001b[0m\u001b[1;33m.\u001b[0m\u001b[0mCredentials\u001b[0m\u001b[1;33m.\u001b[0m\u001b[0mnew_from_json\u001b[0m\u001b[1;33m(\u001b[0m\u001b[0mcontent\u001b[0m\u001b[1;33m)\u001b[0m\u001b[1;33m\u001b[0m\u001b[1;33m\u001b[0m\u001b[0m\n\u001b[0m\u001b[0;32m     55\u001b[0m             \u001b[0mcredentials\u001b[0m\u001b[1;33m.\u001b[0m\u001b[0mset_store\u001b[0m\u001b[1;33m(\u001b[0m\u001b[0mself\u001b[0m\u001b[1;33m)\u001b[0m\u001b[1;33m\u001b[0m\u001b[1;33m\u001b[0m\u001b[0m\n\u001b[0;32m     56\u001b[0m         \u001b[1;32mexcept\u001b[0m \u001b[0mValueError\u001b[0m\u001b[1;33m:\u001b[0m\u001b[1;33m\u001b[0m\u001b[1;33m\u001b[0m\u001b[0m\n",
      "\u001b[1;32mC:\\Users\\All Users\\Anaconda3\\lib\\site-packages\\oauth2client\\client.py\u001b[0m in \u001b[0;36mnew_from_json\u001b[1;34m(cls, json_data)\u001b[0m\n\u001b[0;32m    300\u001b[0m         \u001b[1;31m# Find and call the right classmethod from_json() to restore\u001b[0m\u001b[1;33m\u001b[0m\u001b[1;33m\u001b[0m\u001b[1;33m\u001b[0m\u001b[0m\n\u001b[0;32m    301\u001b[0m         \u001b[1;31m# the object.\u001b[0m\u001b[1;33m\u001b[0m\u001b[1;33m\u001b[0m\u001b[1;33m\u001b[0m\u001b[0m\n\u001b[1;32m--> 302\u001b[1;33m         \u001b[0mmodule_name\u001b[0m \u001b[1;33m=\u001b[0m \u001b[0mdata\u001b[0m\u001b[1;33m[\u001b[0m\u001b[1;34m'_module'\u001b[0m\u001b[1;33m]\u001b[0m\u001b[1;33m\u001b[0m\u001b[1;33m\u001b[0m\u001b[0m\n\u001b[0m\u001b[0;32m    303\u001b[0m         \u001b[1;32mtry\u001b[0m\u001b[1;33m:\u001b[0m\u001b[1;33m\u001b[0m\u001b[1;33m\u001b[0m\u001b[0m\n\u001b[0;32m    304\u001b[0m             \u001b[0mmodule_obj\u001b[0m \u001b[1;33m=\u001b[0m \u001b[0m__import__\u001b[0m\u001b[1;33m(\u001b[0m\u001b[0mmodule_name\u001b[0m\u001b[1;33m)\u001b[0m\u001b[1;33m\u001b[0m\u001b[1;33m\u001b[0m\u001b[0m\n",
      "\u001b[1;31mKeyError\u001b[0m: '_module'"
     ]
    }
   ],
   "source": [
    "# !pip install --upgrade google-api-python-client google-auth-httplib2 google-auth-oauthlib\n",
    "from __future__ import print_function # SyntaxError: from __future__ imports must occur at the beginning of the file\n",
    "from apiclient.discovery import build\n",
    "from apiclient.http import MediaFileUpload,MediaIoBaseDownload\n",
    "from google.auth import credentials\n",
    "from oauth2client import file, client, tools\n",
    "from httplib2 import Http\n",
    "import json\n",
    "import os\n",
    "import io\n",
    "import requests\n",
    "import mock\n",
    "\n",
    "# Setup the Drive v3 API\n",
    "SCOPES = 'https://www.googleapis.com/auth/drive.file'\n",
    "store = file.Storage('credentials.json')\n",
    "creds = store.get()\n",
    "if not creds or creds.invalid:\n",
    "    flow = client.flow_from_clientsecrets('client_secret.json', SCOPES)\n",
    "    creds = tools.run_flow(flow, store)\n",
    "drive_service = build('drive', 'v3', http=creds.authorize(Http()))\n",
    "\n",
    "# creds = mock.Mock(spec=credentials.Credentials) # AttributeError: Mock object has no attribute 'authorize'\n",
    "# drive = build('drive', 'v3', http=creds.authorize(Http())) # NameError: name 'creds' is not defined ---> creds\n",
    "\n",
    "file_metadata = {\n",
    "    'name': 'FileName_to_be_in_drive.txt',\n",
    "    'mimeType': 'application/vnd.google-apps.spreadsheet'\n",
    "}\n",
    "# media = MediaFileUpload('Log/일일_수익률.txt', mimetype='text/csv', resumable=True)\n",
    "media = MediaFileUpload('Log/일일_수익률.txt', mimetype='*/*', resumable=True)\n",
    "file = drive_services.files().create(body=file_metadata, # NameError: name 'drive_services' is not defined ---> drive\n",
    "                                    media_body=media,\n",
    "                                    fields='id').execute()\n",
    "print(\"File ID: %s\" % file.get('id'))\n"
   ]
  },
  {
   "cell_type": "code",
   "execution_count": 16,
   "metadata": {},
   "outputs": [
    {
     "name": "stdout",
     "output_type": "stream",
     "text": [
      "Files:\n",
      "Yahoo 주가 불러오기 - 주간, 월간 (1MTFF8CqRNWNulVlxRUI-viXC1P_cv_C6LX5MVH4dMqc)\n",
      "구매내역 (1mAMKmieICzGe7RVT99m_qnrhYLO946AthUr5JtV7M84)\n",
      "부동산_ETC (1nvo62kO2FoZqjaPDdFU4R9sZbd-ESU76rFaOC_GYAsU)\n",
      "나바호킴 샌프란시스코 여행지도, San Francisco , (1zCo8v4UB1Wqeu2b8qXUe0UQ9MQs)\n",
      "Notepad_정리.zip (1l5oF-ttlzFkQRgwvzColzaAWOhhpKzsp)\n",
      "Oracle.zip (1Rh3wX21bLIQwbrFofZ8GXJoOa63JLuFb)\n",
      "MP3 제목 수정 (1An_f_TO8Q83dSl_eiEQY5uj7Q8DSO8mBGpnElstWNu4)\n",
      "jwFreeNote_20200815.zip (1faHiUADehoYbt2z1CvvwkiS-Me4ZG2qZ)\n",
      "Untitled (1AJpIkR7L-sD_fZyBBppj-UHiXNdCVdZJ)\n",
      "물먹는하마_20200817 (1gFgvnnOHvAoHQdOAwp9NkxY0UwGM-wZPcpqQ_i92Aiw)\n"
     ]
    }
   ],
   "source": [
    "from __future__ import print_function\n",
    "import pickle\n",
    "import os.path\n",
    "from googleapiclient.discovery import build\n",
    "from google_auth_oauthlib.flow import InstalledAppFlow\n",
    "from google.auth.transport.requests import Request\n",
    "\n",
    "# If modifying these scopes, delete the file token.pickle.\n",
    "SCOPES = ['https://www.googleapis.com/auth/drive.metadata']\n",
    "# SCOPES = ['https://www.googleapis.com/auth/drive.metadata.readonly']\n",
    "\n",
    "def main():\n",
    "    \"\"\"Shows basic usage of the Drive v3 API.\n",
    "    Prints the names and ids of the first 10 files the user has access to.\n",
    "    \"\"\"\n",
    "    creds = None\n",
    "    # The file token.pickle stores the user's access and refresh tokens, and is\n",
    "    # created automatically when the authorization flow completes for the first\n",
    "    # time.\n",
    "    if os.path.exists('token.pickle'):\n",
    "        with open('token.pickle', 'rb') as token:\n",
    "            creds = pickle.load(token)\n",
    "    # If there are no (valid) credentials available, let the user log in.\n",
    "    if not creds or not creds.valid:\n",
    "        if creds and creds.expired and creds.refresh_token:\n",
    "            creds.refresh(Request())\n",
    "        else:\n",
    "            flow = InstalledAppFlow.from_client_secrets_file(\n",
    "                'credentials.json', SCOPES)\n",
    "            creds = flow.run_local_server(port=0)\n",
    "        # Save the credentials for the next run\n",
    "        with open('token.pickle', 'wb') as token:\n",
    "            pickle.dump(creds, token)\n",
    "\n",
    "    service = build('drive', 'v3', credentials=creds)\n",
    "\n",
    "    # Call the Drive v3 API\n",
    "    results = service.files().list(\n",
    "        pageSize=10, fields=\"nextPageToken, files(id, name)\").execute()\n",
    "    items = results.get('files', [])\n",
    "\n",
    "    if not items:\n",
    "        print('No files found.')\n",
    "    else:\n",
    "        print('Files:')\n",
    "        for item in items:\n",
    "            print(u'{0} ({1})'.format(item['name'], item['id']))\n",
    "\n",
    "if __name__ == '__main__':\n",
    "    main()"
   ]
  },
  {
   "cell_type": "code",
   "execution_count": 5,
   "metadata": {},
   "outputs": [
    {
     "ename": "ValueError",
     "evalue": "('Unexpected credentials type', None, 'Expected', 'service_account')",
     "output_type": "error",
     "traceback": [
      "\u001b[1;31m---------------------------------------------------------------------------\u001b[0m",
      "\u001b[1;31mValueError\u001b[0m                                Traceback (most recent call last)",
      "\u001b[1;32m<ipython-input-5-ca32d369a32e>\u001b[0m in \u001b[0;36m<module>\u001b[1;34m\u001b[0m\n\u001b[0;32m      4\u001b[0m \u001b[1;33m\u001b[0m\u001b[0m\n\u001b[0;32m      5\u001b[0m \u001b[1;31m#Set up a credentials object I think\u001b[0m\u001b[1;33m\u001b[0m\u001b[1;33m\u001b[0m\u001b[1;33m\u001b[0m\u001b[0m\n\u001b[1;32m----> 6\u001b[1;33m \u001b[0mcreds\u001b[0m \u001b[1;33m=\u001b[0m \u001b[0mServiceAccountCredentials\u001b[0m\u001b[1;33m.\u001b[0m\u001b[0mfrom_json_keyfile_name\u001b[0m\u001b[1;33m(\u001b[0m\u001b[1;34m'credentials.json'\u001b[0m\u001b[1;33m,\u001b[0m \u001b[1;33m[\u001b[0m\u001b[1;34m'https://www.googleapis.com/auth/drive'\u001b[0m\u001b[1;33m]\u001b[0m\u001b[1;33m)\u001b[0m\u001b[1;33m\u001b[0m\u001b[1;33m\u001b[0m\u001b[0m\n\u001b[0m\u001b[0;32m      7\u001b[0m \u001b[1;33m\u001b[0m\u001b[0m\n\u001b[0;32m      8\u001b[0m \u001b[1;31m#Now build our api object, thing\u001b[0m\u001b[1;33m\u001b[0m\u001b[1;33m\u001b[0m\u001b[1;33m\u001b[0m\u001b[0m\n",
      "\u001b[1;32mC:\\Users\\All Users\\Anaconda3\\lib\\site-packages\\oauth2client\\service_account.py\u001b[0m in \u001b[0;36mfrom_json_keyfile_name\u001b[1;34m(cls, filename, scopes, token_uri, revoke_uri)\u001b[0m\n\u001b[0;32m    221\u001b[0m         return cls._from_parsed_json_keyfile(client_credentials, scopes,\n\u001b[0;32m    222\u001b[0m                                              \u001b[0mtoken_uri\u001b[0m\u001b[1;33m=\u001b[0m\u001b[0mtoken_uri\u001b[0m\u001b[1;33m,\u001b[0m\u001b[1;33m\u001b[0m\u001b[1;33m\u001b[0m\u001b[0m\n\u001b[1;32m--> 223\u001b[1;33m                                              revoke_uri=revoke_uri)\n\u001b[0m\u001b[0;32m    224\u001b[0m \u001b[1;33m\u001b[0m\u001b[0m\n\u001b[0;32m    225\u001b[0m     \u001b[1;33m@\u001b[0m\u001b[0mclassmethod\u001b[0m\u001b[1;33m\u001b[0m\u001b[1;33m\u001b[0m\u001b[0m\n",
      "\u001b[1;32mC:\\Users\\All Users\\Anaconda3\\lib\\site-packages\\oauth2client\\service_account.py\u001b[0m in \u001b[0;36m_from_parsed_json_keyfile\u001b[1;34m(cls, keyfile_dict, scopes, token_uri, revoke_uri)\u001b[0m\n\u001b[0;32m    170\u001b[0m         \u001b[1;32mif\u001b[0m \u001b[0mcreds_type\u001b[0m \u001b[1;33m!=\u001b[0m \u001b[0mclient\u001b[0m\u001b[1;33m.\u001b[0m\u001b[0mSERVICE_ACCOUNT\u001b[0m\u001b[1;33m:\u001b[0m\u001b[1;33m\u001b[0m\u001b[1;33m\u001b[0m\u001b[0m\n\u001b[0;32m    171\u001b[0m             raise ValueError('Unexpected credentials type', creds_type,\n\u001b[1;32m--> 172\u001b[1;33m                              'Expected', client.SERVICE_ACCOUNT)\n\u001b[0m\u001b[0;32m    173\u001b[0m \u001b[1;33m\u001b[0m\u001b[0m\n\u001b[0;32m    174\u001b[0m         \u001b[0mservice_account_email\u001b[0m \u001b[1;33m=\u001b[0m \u001b[0mkeyfile_dict\u001b[0m\u001b[1;33m[\u001b[0m\u001b[1;34m'client_email'\u001b[0m\u001b[1;33m]\u001b[0m\u001b[1;33m\u001b[0m\u001b[1;33m\u001b[0m\u001b[0m\n",
      "\u001b[1;31mValueError\u001b[0m: ('Unexpected credentials type', None, 'Expected', 'service_account')"
     ]
    }
   ],
   "source": [
    "from oauth2client.service_account import ServiceAccountCredentials\n",
    "from apiclient.discovery import build\n",
    "from apiclient.http import MediaFileUpload\n",
    "\n",
    "#Set up a credentials object I think\n",
    "creds = ServiceAccountCredentials.from_json_keyfile_name('credentials.json', ['https://www.googleapis.com/auth/drive'])\n",
    "\n",
    "#Now build our api object, thing\n",
    "drive_api = build('drive', 'v3', credentials=creds)\n",
    "\n",
    "file_name = \"test\"\n",
    "print(\"Uploading file %s\" %  file_name)\n",
    "\n",
    "#We have to make a request hash to tell the google API what we're giving it\n",
    "body = {'name': file_name, 'mimeType': 'application/vnd.google-apps.document'}\n",
    "\n",
    "#Now create the media file upload object and tell it what file to upload,\n",
    "#in this case 'test.html'\n",
    "media = MediaFileUpload('test.html', mimetype = 'text/html')\n",
    "\n",
    "#Now we're doing the actual post, creating a new file of the uploaded type\n",
    "fiahl = drive_api.files().create(body=body, media_body=media).execute()\n",
    "\n",
    "#Because verbosity is nice\n",
    "print(\"Created file '%s' id '%s'.\" % (fiahl.get('name'), fiahl.get('id')))"
   ]
  },
  {
   "cell_type": "code",
   "execution_count": null,
   "metadata": {},
   "outputs": [],
   "source": [
    "import pandas as pd\n",
    "from init_Stock import *\n",
    "\n",
    "df = pd.DataFrame(Target_Frame)\n",
    "print(df)\n",
    "print(df['목표수익'][2])\n",
    "\n",
    "for index, row in df.iterrows():\n",
    "    print(row['종목코드'])\n",
    "    print(type(row['종목코드']))\n",
    "    if row['종목코드'] == '123320' :\n",
    "        print(\"IF\")\n",
    "    \n",
    "# df[df['종목코드'].str.contains('233')]"
   ]
  },
  {
   "cell_type": "code",
   "execution_count": null,
   "metadata": {},
   "outputs": [],
   "source": [
    "# %timeit df[df['종목코드'].str.match('1233')]\n",
    "df[df['종목코드'].str.match('1233')]"
   ]
  },
  {
   "cell_type": "code",
   "execution_count": null,
   "metadata": {},
   "outputs": [],
   "source": [
    "# HotSpot.loc[HotSpot['phone'].str.contains('http'), 'phone'] \n",
    "df.loc[df['종목코드'].str.match('123'),'종목명']\n",
    "df.loc[df['종목코드'].str.match('123'),'종목약칭']\n",
    "df.loc[df['종목코드'].str.match('123'),'목표수익']\n",
    "df.loc[df['종목코드'].str.match('123'),'물타기']\n",
    "# df.loc[df[df['종목코드'].str.match('1233'),'목포수익']]"
   ]
  },
  {
   "cell_type": "code",
   "execution_count": null,
   "metadata": {
    "scrolled": true
   },
   "outputs": [],
   "source": [
    "for index, row in df.iterrows():\n",
    "    print(row['종목코드'])"
   ]
  },
  {
   "cell_type": "code",
   "execution_count": null,
   "metadata": {},
   "outputs": [],
   "source": [
    "test1 = \"233160\"\n",
    "test2 = \"233160\"\n",
    "print(type(test1))\n",
    "print(type(test2))\n",
    "if test1 == test2 :\n",
    "    print(\"OK\")\n",
    "else :\n",
    "    print(\"NOT\")"
   ]
  },
  {
   "cell_type": "code",
   "execution_count": null,
   "metadata": {},
   "outputs": [],
   "source": [
    "test1 = df.loc[df['종목코드'].str.match('233160'),'종목코드'].to_string(index=False)\n",
    "print(test1)\n",
    "# test1=test1.strip()\n",
    "print(len(test1))\n",
    "test2 = \"233160\"\n",
    "print(test2)\n",
    "print(len(test2))\n",
    "\n",
    "if test2 == test1 : \n",
    "    print(\"OK\")\n",
    "else :\n",
    "    print(\"NOT\")"
   ]
  },
  {
   "cell_type": "code",
   "execution_count": null,
   "metadata": {},
   "outputs": [],
   "source": [
    "df.loc[df['종목코드'].str.match(\"233160\"),'제한총액'].to_string(index=False)"
   ]
  },
  {
   "cell_type": "code",
   "execution_count": null,
   "metadata": {},
   "outputs": [],
   "source": [
    "import pandas as pd\n",
    "\n",
    "DFrame = {'이름' : ['홍길동', '구마적', '신짝패'],\n",
    "          '나이' : ['29', '30', '40'],\n",
    "          '성별' : ['남', '여', '모름']}\n",
    "\n",
    "df = pd.DataFrame(DFrame)\n",
    "\n",
    "list = ['29', '31', '40']\n",
    "for index, row in df.iterrows():\n",
    "    print(index)\n",
    "    print(row['나이'])\n",
    "    print(list[index])\n",
    "    if row['나이'] == list[1] :\n",
    "        print(\"OK : %s, %s\" % (row['나이'], list[1]))"
   ]
  },
  {
   "cell_type": "code",
   "execution_count": null,
   "metadata": {},
   "outputs": [],
   "source": [
    "import winsound         # for sound  \n",
    "import time             # for sleep\n",
    "\n",
    "frequency = 2500  # Set Frequency To 2500 Hertz\n",
    "duration = 1000  # Set Duration To 1000 ms == 1 second\n",
    "\n",
    "#winsound.Beep(frequency, duration)\n",
    "winsound.Beep(440, 250) # frequency, duration\n",
    "time.sleep(0.25)        # in seconds (0.25 is 250ms"
   ]
  },
  {
   "cell_type": "code",
   "execution_count": null,
   "metadata": {},
   "outputs": [],
   "source": [
    "print(f\"{100000:,}\")"
   ]
  },
  {
   "cell_type": "code",
   "execution_count": null,
   "metadata": {},
   "outputs": [],
   "source": [
    "a = ['0917030200', '00303030']\n",
    "\n",
    "print(a)"
   ]
  },
  {
   "cell_type": "code",
   "execution_count": null,
   "metadata": {},
   "outputs": [],
   "source": [
    "x_1 = [1, 2, 1, 1, 1, 3, 3, 2, 4, 5, 6]\n",
    "x_1.count(1)"
   ]
  },
  {
   "cell_type": "code",
   "execution_count": null,
   "metadata": {},
   "outputs": [],
   "source": [
    "import datetime\n",
    "datetime.datetime.today().strftime(\"%Y%m%d %H:%M:%S\")\n",
    "\n",
    "datetime.datetime.today().strftime(\"%D\")\n",
    "\n",
    "datetime.datetime.today().weekday()\n"
   ]
  },
  {
   "cell_type": "code",
   "execution_count": null,
   "metadata": {},
   "outputs": [],
   "source": [
    "import pandas as pd\n",
    "from datetime import datetime\n",
    "\n",
    "# ['225040', '225040', '225040']\n",
    "# ['매수', '매수', '매수']\n",
    "# ['접수', '접수', '접수']\n",
    "# ['09', '09', '09']\n",
    "account_expcode = ['225040', '225040', '225040']\n",
    "order_group_list = ['매수', '매수', '매수']\n",
    "order_status_list = ['접수', '체결', '접수']\n",
    "order_ordtime = ['0923', '0934', '2230']\n",
    "Call_DataFrame = pd.DataFrame({'종목' : account_expcode, '매수매도' : order_group_list, '상태' : order_status_list, '주문시간' : order_ordtime})\n",
    "\n",
    "print(Call_DataFrame)\n",
    "print(Call_DataFrame[Call_DataFrame[\"주문시간\"]==Call_DataFrame[\"주문시간\"].max()].index.values)\n",
    "print(\"자르기\")\n",
    "test_value = Call_DataFrame[Call_DataFrame[\"주문시간\"]==Call_DataFrame[\"주문시간\"].max()].index.values\n",
    "print(test_value)\n",
    "print(\"시간가져오기\")\n",
    "print(Call_DataFrame[\"주문시간\"][Call_DataFrame[Call_DataFrame[\"주문시간\"]==Call_DataFrame[\"주문시간\"].max()].index.values].to_string())\n",
    "test_value1 = Call_DataFrame[\"주문시간\"][Call_DataFrame[Call_DataFrame[\"주문시간\"]==Call_DataFrame[\"주문시간\"].max()].index.values].to_string()\n",
    "test_value1 = Call_DataFrame[\"주문시간\"][Call_DataFrame[Call_DataFrame[\"주문시간\"]==Call_DataFrame[\"주문시간\"].max()].index.values].to_string(index=False)\n",
    "test_value1 = Call_DataFrame[\"주문시간\"][Call_DataFrame[Call_DataFrame[\"주문시간\"]==Call_DataFrame[\"주문시간\"].max()].index.values].to_string(index=False).strip()\n",
    "# print(test_value1)\n",
    "get_today = datetime.today().strftime(\"%Y%m%d\")\n",
    "get_this = get_today + test_value1\n",
    "# print(get_this)\n",
    "test1= datetime.strptime(get_this, '%Y%m%d%H%M') # ---> <class 'datetime.datetime'>\n",
    "test_value2 = datetime.today().strftime(\"%Y%m%d%H%M\") # ---> <class 'str'>\n",
    "test2 = datetime.strptime(test_value2, '%Y%m%d%H%M')\n",
    "\n",
    "print(test1)\n",
    "print(test2)\n",
    "\n",
    "test3 = (test2 - test1) # # datetime.timedelta(0, 4, 316543) ---> 1st : day, 2nd : seconds, 3rd : microseconds\n",
    "print(type(test3))\n",
    "print(test3)\n",
    "test4 = test3.total_seconds()\n",
    "print(type(test4))\n",
    "print(test4)\n",
    "if test4 > 500 : # total.total_seconds()\n",
    "    print(\"TEST\")\n",
    "else :\n",
    "    print(\"NOT\")\n",
    "\n",
    "print(Call_DataFrame[\"주문시간\"][Call_DataFrame[Call_DataFrame[\"주문시간\"]==Call_DataFrame[\"주문시간\"].max()].index.values].to_string(index=False).strip())\n",
    "print(Call_DataFrame[\"상태\"][Call_DataFrame[Call_DataFrame[\"주문시간\"]==Call_DataFrame[\"주문시간\"].max()].index.values].to_string(index=False).strip())\n",
    "print(Call_DataFrame[\"매수매도\"][Call_DataFrame[Call_DataFrame[\"주문시간\"]==Call_DataFrame[\"주문시간\"].max()].index.values].to_string(index=False).strip())\n",
    "\n",
    "from datetime import datetime, timedelta\n",
    "print(datetime.now() + timedelta(days=-1))\n",
    "print(datetime.now() + timedelta(days=5, hours=-5))"
   ]
  },
  {
   "cell_type": "code",
   "execution_count": null,
   "metadata": {},
   "outputs": [],
   "source": [
    "import pandas as pd\n",
    "#     input_1 = open('Echart_Test_1.html', 'r')\n",
    "#     input_2 = open('Echart_Test_2.html', 'r')\n",
    "result_Data = open('Log/My_Asset_History.txt', 'r')\n",
    "\n",
    "df = pd.read_csv('Log/My_Asset_History.txt', sep=\" : \")\n",
    "df.reset_index()\n",
    "print('TEST')\n",
    "print(df)"
   ]
  },
  {
   "cell_type": "code",
   "execution_count": 34,
   "metadata": {},
   "outputs": [
    {
     "name": "stdout",
     "output_type": "stream",
     "text": [
      "200000\n",
      "250000\n",
      "250000\n",
      "100000\n",
      "100000\n",
      "50000\n",
      "50000\n",
      "[200000, 250000, 250000, 100000, 100000, 50000, 50000]\n"
     ]
    }
   ],
   "source": [
    "# (percent * whole) / 100.0\n",
    "Total_Asset = 1000000\n",
    "KOSPI_L = int((20 * Total_Asset) / 100)\n",
    "KOSDAQ_L =  int((25 * Total_Asset) / 100)\n",
    "USA_L =  int((25 * Total_Asset) / 100)\n",
    "INDIA_L =  int((10 * Total_Asset) / 100)\n",
    "CHINA_L =  int((10 * Total_Asset) / 100)\n",
    "KOSPI_INV =  int((5 * Total_Asset) / 100)\n",
    "KOSDAQ_INV =  int((5 * Total_Asset) / 100)\n",
    "#  ---> 7 개 종목\n",
    "\n",
    "Target_Frame = {'종목명' : ['코스피 레버지리', '코스닥 레버리지', '미국S&P500 레버리지', '인도니프티50레버리지', '차이나CSI300레버리지', \"KODEX 200선물인버스2X\", \"KODEX 코스닥150선물인버스\"],\n",
    "                '종목약칭' : ['코스피', '코스닥', '미국', '인도', '중국', '인버스', '코스닥인버스'],\n",
    "                '종목코드' : ['123320', '233160', '225040', '236350', '204480', '252670', '251340'],\n",
    "                '목표수익' : [3, 3, 3, 3, 3, 3, 3],\n",
    "                '물타기' : [-3, -3, -3, -3, -3, -3, -3],\n",
    "                '1회매수액' : [100000, 100000, 100000, 100000, 100000, 100000, 100000],\n",
    "                '제한총액' : [KOSPI_L, KOSDAQ_L, USA_L, INDIA_L, CHINA_L, KOSPI_INV, KOSDAQ_INV],\n",
    "                '손절액' : [-1000, -1000, -1000, -1000, -1000, -6, -6] }\n",
    "\n",
    "print(Target_Frame[\"제한총액\"])"
   ]
  },
  {
   "cell_type": "code",
   "execution_count": 1,
   "metadata": {},
   "outputs": [
    {
     "name": "stdout",
     "output_type": "stream",
     "text": [
      "Collecting PyGithub\n",
      "  Downloading PyGithub-1.53-py3-none-any.whl (274 kB)\n",
      "Requirement already satisfied: requests in c:\\users\\all users\\anaconda3\\lib\\site-packages (2.23.0)\n",
      "Collecting deprecated\n",
      "  Downloading Deprecated-1.2.10-py2.py3-none-any.whl (8.7 kB)\n",
      "Collecting pyjwt\n",
      "  Downloading PyJWT-1.7.1-py2.py3-none-any.whl (18 kB)\n",
      "Requirement already satisfied: chardet<4,>=3.0.2 in c:\\users\\all users\\anaconda3\\lib\\site-packages (from requests) (3.0.4)\n",
      "Requirement already satisfied: certifi>=2017.4.17 in c:\\users\\all users\\anaconda3\\lib\\site-packages (from requests) (2020.4.5.2)\n",
      "Requirement already satisfied: idna<3,>=2.5 in c:\\users\\all users\\anaconda3\\lib\\site-packages (from requests) (2.9)\n",
      "Requirement already satisfied: urllib3!=1.25.0,!=1.25.1,<1.26,>=1.21.1 in c:\\users\\all users\\anaconda3\\lib\\site-packages (from requests) (1.25.9)\n",
      "Requirement already satisfied: wrapt<2,>=1.10 in c:\\users\\all users\\anaconda3\\lib\\site-packages (from deprecated->PyGithub) (1.12.1)\n",
      "Installing collected packages: deprecated, pyjwt, PyGithub\n",
      "Successfully installed PyGithub-1.53 deprecated-1.2.10 pyjwt-1.7.1\n"
     ]
    }
   ],
   "source": []
  },
  {
   "cell_type": "code",
   "execution_count": 3,
   "metadata": {},
   "outputs": [
    {
     "ename": "NameError",
     "evalue": "name 'd' is not defined",
     "output_type": "error",
     "traceback": [
      "\u001b[1;31m---------------------------------------------------------------------------\u001b[0m",
      "\u001b[1;31mNameError\u001b[0m                                 Traceback (most recent call last)",
      "\u001b[1;32m<ipython-input-3-e0f57ac399b9>\u001b[0m in \u001b[0;36m<module>\u001b[1;34m\u001b[0m\n\u001b[0;32m      1\u001b[0m \u001b[0mList_List\u001b[0m \u001b[1;33m=\u001b[0m \u001b[1;33m[\u001b[0m\u001b[1;34m\"test1\"\u001b[0m\u001b[1;33m,\u001b[0m \u001b[1;34m\"test2\"\u001b[0m\u001b[1;33m,\u001b[0m \u001b[1;34m\"test3\"\u001b[0m\u001b[1;33m]\u001b[0m\u001b[1;33m\u001b[0m\u001b[1;33m\u001b[0m\u001b[0m\n\u001b[0;32m      2\u001b[0m \u001b[1;32mfor\u001b[0m \u001b[0mx\u001b[0m \u001b[1;32min\u001b[0m \u001b[0mList_List\u001b[0m \u001b[1;33m:\u001b[0m\u001b[1;33m\u001b[0m\u001b[1;33m\u001b[0m\u001b[0m\n\u001b[1;32m----> 3\u001b[1;33m     \u001b[0md\u001b[0m\u001b[1;33m[\u001b[0m\u001b[1;34m\"string{0}\"\u001b[0m\u001b[1;33m.\u001b[0m\u001b[0mformat\u001b[0m\u001b[1;33m(\u001b[0m\u001b[0mx\u001b[0m\u001b[1;33m)\u001b[0m\u001b[1;33m]\u001b[0m\u001b[1;33m\u001b[0m\u001b[1;33m\u001b[0m\u001b[0m\n\u001b[0m",
      "\u001b[1;31mNameError\u001b[0m: name 'd' is not defined"
     ]
    }
   ],
   "source": [
    "List_List = [\"test1\", \"test2\", \"test3\"]\n",
    "for x in List_List : \n",
    "    d[\"string{0}\".format(x)]"
   ]
  },
  {
   "cell_type": "code",
   "execution_count": 3,
   "metadata": {},
   "outputs": [
    {
     "name": "stdout",
     "output_type": "stream",
     "text": [
      "<class 'float'>\n",
      "F\n"
     ]
    }
   ],
   "source": [
    "x = 1.2345678\n",
    "print(type(x))\n",
    "\n",
    "if isinstance(x, float) :\n",
    "    print(\"F\")\n",
    "else :\n",
    "    print(\"X\")"
   ]
  },
  {
   "cell_type": "code",
   "execution_count": 8,
   "metadata": {},
   "outputs": [
    {
     "name": "stdout",
     "output_type": "stream",
     "text": [
      "<class 'list'>\n",
      "<class 'str'>\n",
      "Stockpy\n",
      "<class 'str'>\n",
      "Stockpython.txt\n",
      "<class 'str'>\n",
      "StockToday.html\n",
      "<class 'str'>\n",
      "StockToday_20210217_이유없이 멈춤.html\n",
      "<class 'str'>\n",
      "Stock_Conn.ipynb\n",
      "<class 'str'>\n",
      "Stock_History.py\n",
      "<class 'str'>\n",
      "Stock_Main.ipynb\n",
      "<class 'str'>\n",
      "Stock_Main.py\n",
      "<class 'str'>\n",
      "Stock_Main_Pandas.py\n",
      "<class 'str'>\n",
      "Stock_Main_Pandas_20200721.ipynb\n",
      "<class 'str'>\n",
      "Stock_Main_Pandas_20200723.ipynb\n",
      "<class 'str'>\n",
      "Stock_Main_Pandas_20200803.ipynb\n",
      "<class 'str'>\n",
      "Stock_Main_Pandas_20200808.ipynb\n",
      "<class 'str'>\n",
      "Stock_Main_Pandas_20200811_1차완료.ipynb\n",
      "<class 'str'>\n",
      "Stock_Main_Pandas_AutoStart.html\n",
      "<class 'str'>\n",
      "Stock_Main_Pandas_AutoStart.ipynb\n",
      "<class 'str'>\n",
      "Stock_Main_Pandas_AutoStart_20200814.ipynb\n",
      "<class 'str'>\n",
      "Stock_Main_Pandas_AutoStart_20200827.ipynb\n",
      "<class 'str'>\n",
      "Stock_Main_Pandas_AutoStart_20200905.ipynb\n",
      "<class 'str'>\n",
      "Stock_Main_Pandas_AutoStart_20200916.ipynb\n",
      "<class 'str'>\n",
      "Stock_Main_Pandas_AutoStart_20201105_Complete.ipynb\n",
      "<class 'str'>\n",
      "Stock_Main_Pandas_AutoStart_20201126.ipynb\n",
      "<class 'str'>\n",
      "Stock_Main_Pandas_AutoStart_20201227.ipynb\n",
      "<class 'str'>\n",
      "Stock_Main_Pandas_AutoStart_20210123.ipynb\n",
      "<class 'str'>\n",
      "Stock_Main_Pandas_AutoStart_20210130.ipynb\n",
      "<class 'str'>\n",
      "Stock_Main_Pandas_AutoStart_20210214.ipynb\n",
      "<class 'str'>\n",
      "Stock_Main_Pandas_수정중.ipynb\n",
      "<class 'str'>\n",
      "Stock_Price_Get_From_Naver.ipynb\n",
      "<class 'str'>\n",
      "Stock_Quantum_Naver.ipynb\n"
     ]
    }
   ],
   "source": [
    "import os\n",
    "import re\n",
    "\n",
    "pattern = re.compile(r'^Stock')\n",
    "\n",
    "arr = os.listdir('.')\n",
    "# print(type(arr))\n",
    "for x in arr :\n",
    "#     print(x)\n",
    "    if re.match(pattern, x) :\n",
    "        print(type(x))\n",
    "        print(x)\n"
   ]
  },
  {
   "cell_type": "code",
   "execution_count": 1,
   "metadata": {},
   "outputs": [],
   "source": [
    "from sys import platform\n",
    "print(platform)"
   ]
  },
  {
   "cell_type": "code",
   "execution_count": 7,
   "metadata": {},
   "outputs": [
    {
     "name": "stdout",
     "output_type": "stream",
     "text": [
      "<class 'float'>\n",
      "1619473087.8623044\n",
      "it took 1.0\n"
     ]
    }
   ],
   "source": [
    "import time\n",
    "\n",
    "start = time.time()\n",
    "print(type(start))\n",
    "print(start)\n",
    "\n",
    "time.sleep(1)\n",
    "\n",
    "print(\"it took %s\" % str(time.time() - start))"
   ]
  }
 ],
 "metadata": {
  "kernelspec": {
   "display_name": "Python 3",
   "language": "python",
   "name": "python3"
  },
  "language_info": {
   "codemirror_mode": {
    "name": "ipython",
    "version": 3
   },
   "file_extension": ".py",
   "mimetype": "text/x-python",
   "name": "python",
   "nbconvert_exporter": "python",
   "pygments_lexer": "ipython3",
   "version": "3.7.7"
  }
 },
 "nbformat": 4,
 "nbformat_minor": 4
}
