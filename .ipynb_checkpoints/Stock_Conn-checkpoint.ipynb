{
 "cells": [
  {
   "cell_type": "code",
   "execution_count": null,
   "metadata": {},
   "outputs": [],
   "source": [
    "import os\n",
    "import win32com.client\n",
    "import pythoncom"
   ]
  },
  {
   "cell_type": "code",
   "execution_count": null,
   "metadata": {},
   "outputs": [],
   "source": [
    "class XASessionEventHandler:\n",
    "    login_state = 0\n",
    "\n",
    "    def OnLogin(self, code, msg):\n",
    "        if code == \"0000\":\n",
    "            print(\"로그인 성공\")\n",
    "            XASessionEventHandler.login_state = 1\n",
    "        else:\n",
    "            print(\"로그인 실패\")"
   ]
  },
  {
   "cell_type": "code",
   "execution_count": null,
   "metadata": {},
   "outputs": [],
   "source": [
    "instXASession = win32com.client.DispatchWithEvents(\"XA_Session.XASession\", XASessionEventHandler)"
   ]
  },
  {
   "cell_type": "code",
   "execution_count": null,
   "metadata": {},
   "outputs": [],
   "source": [
    "#id, passwd, cert_passwd = \"cchoi\", \"1234a\", \"\"\n",
    "id, passwd, cert_passwd = \"cchoi\", \"dlfdl12\", \"dlftka13!#\""
   ]
  },
  {
   "cell_type": "code",
   "execution_count": null,
   "metadata": {},
   "outputs": [],
   "source": [
    "# 접속할 서버의 기본 주소는 'hts.ebestsec.co.kr'인데 모의 투자인 경우에는 'demo.ebestsec.co.kr'을 사용하면 됩니다.\n",
    "#instXASession.ConnectServer(\"demo.ebestsec.co.kr\", 20001) # 211.216.52.129 (dev-center), 211.216.52.140 (XingACE), 211.216.52.135 (???)\n",
    "instXASession.ConnectServer(\"hts.ebestsec.co.kr\", 20001)\n",
    "#instXASession.ConnectServer(\"211.216.52.140\", 20001) # 211.216.52.129 (dev-center), 211.216.52.140 (XingACE), 211.216.52.135 (???)\n",
    "#instXASession.ConnectServer(\"211.216.52.129\", 20001) # 211.216.52.129 (dev-center), 211.216.52.140 (XingACE), 211.216.52.135 (???)\n",
    "instXASession.Login(id, passwd, cert_passwd, 0, 0)"
   ]
  },
  {
   "cell_type": "code",
   "execution_count": null,
   "metadata": {},
   "outputs": [],
   "source": [
    "while XASessionEventHandler.login_state == 0:\n",
    "    pythoncom.PumpWaitingMessages()"
   ]
  },
  {
   "cell_type": "code",
   "execution_count": null,
   "metadata": {},
   "outputs": [],
   "source": [
    "num_account = instXASession.GetAccountListCount()\n",
    "for i in range(num_account):\n",
    "    account = instXASession.GetAccountList(i)\n",
    "    print(account)\n",
    "    \n",
    "# 계좌번호 : 55501053242\n",
    "# 00101753258\n",
    "# 00146753258\n",
    "# 10011702835 - 일반\n",
    "# 00445100633 - 외화\n",
    "# 20053468601\n",
    "# 20053468605\n",
    "# 20053468606 - 비과세해외\n",
    "\n",
    "# 55501053242 - demo"
   ]
  }
 ],
 "metadata": {
  "kernelspec": {
   "display_name": "Python 3",
   "language": "python",
   "name": "python3"
  },
  "language_info": {
   "codemirror_mode": {
    "name": "ipython",
    "version": 3
   },
   "file_extension": ".py",
   "mimetype": "text/x-python",
   "name": "python",
   "nbconvert_exporter": "python",
   "pygments_lexer": "ipython3",
   "version": "3.7.7"
  }
 },
 "nbformat": 4,
 "nbformat_minor": 4
}
