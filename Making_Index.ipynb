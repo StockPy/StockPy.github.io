{
 "cells": [
  {
   "cell_type": "code",
   "execution_count": 1,
   "metadata": {},
   "outputs": [
    {
     "data": {
      "text/html": [
       "<script>\n",
       "    // AUTORUN ALL CELLS ON NOTEBOOK-LOAD!\n",
       "    require(\n",
       "        ['base/js/namespace', 'jquery'], \n",
       "        function(jupyter, $) {\n",
       "            $(jupyter.events).on(\"kernel_ready.Kernel\", function () {\n",
       "                console.log(\"Auto-running all cells-below...\");\n",
       "                jupyter.actions.call('jupyter-notebook:run-all-cells-below');\n",
       "                jupyter.actions.call('jupyter-notebook:save-notebook');\n",
       "            });\n",
       "        }\n",
       "    );\n",
       "</script>\n"
      ],
      "text/plain": [
       "<IPython.core.display.HTML object>"
      ]
     },
     "metadata": {},
     "output_type": "display_data"
    }
   ],
   "source": [
    "%%html\n",
    "<script>\n",
    "    // AUTORUN ALL CELLS ON NOTEBOOK-LOAD!\n",
    "    require(\n",
    "        ['base/js/namespace', 'jquery'], \n",
    "        function(jupyter, $) {\n",
    "            $(jupyter.events).on(\"kernel_ready.Kernel\", function () {\n",
    "                console.log(\"Auto-running all cells-below...\");\n",
    "                jupyter.actions.call('jupyter-notebook:run-all-cells-below');\n",
    "                jupyter.actions.call('jupyter-notebook:save-notebook');\n",
    "            });\n",
    "        }\n",
    "    );\n",
    "</script>"
   ]
  },
  {
   "cell_type": "code",
   "execution_count": null,
   "metadata": {},
   "outputs": [],
   "source": [
    "import datetime, time # for sleep\n",
    "import platform\n",
    "import os\n",
    "import re\n",
    "\n",
    "pattern = re.compile(r'^Analyze')\n",
    "\n",
    "\n",
    "def __Get_List() :\n",
    "\n",
    "    list_files = []\n",
    "    arr = os.listdir('.')\n",
    "    print(type(arr))\n",
    "    for x in arr :\n",
    "    #     print(x)\n",
    "        if re.match(pattern, x) :\n",
    "            list_files.append(x)\n",
    "    return list_files\n",
    "\n",
    "def __Making_Index(list_files) :\n",
    "\n",
    "    if platform == 'darwin' : # or win32\n",
    "        print(platform)\n",
    "        DateTime = datetime.datetime.today().strftime(\"%Y%m%d_%H%M\")\n",
    "        File_Name = \"/Users/choiyoungmin/PycharmProjects/2020Y/Anal_Comp/TEST_Index.html\"\n",
    "        output = open(File_Name, 'w+t', encoding='utf-8')\n",
    "    else :\n",
    "        print(platform)\n",
    "        DateTime_Win = datetime.datetime.today().strftime(\"%Y%m%d\")\n",
    "        File_Name = \"index.html\"\n",
    "        output = open(File_Name, 'w+t', encoding='utf-8')\n",
    "\n",
    "    output.write(\"<!DOCTYPE html PUBLIC \\\"-//W3C//DTD HTML 4.01 Transitional//EN\" \"http://www.w3.org/TR/html4/loose.dtd\\\">\\n\")\n",
    "    output.write(\"<head>\\n\")\n",
    "    output.write(\"</head>\\n\")\n",
    "    output.write(\"<meta name=\\\"viewport\\\" content=\\\"width=device-width, initial-scale=1.0\\\"/>\\n\")\n",
    "    output.write(\"<meta http-equiv=\\\"Content-Type\\\" content=\\\"text/html; charset=utf-8\\\"/>\\n\")\n",
    "    output.write(\"<link rel=\\\"stylesheet\\\" type=\\\"text/css\\\" href=\\\"billboard.min.css\\\"/>\\n\")\n",
    "    \n",
    "    output.write(\"<center>\\n\")\n",
    "    output.write(\"<div id=\\\"CenterT\\\" style=\\\"position:absolute; width:100%; height:100%;\\\">\\n\")\n",
    "    output.write(\"<table border=\\\"1\\\">\\n\")\n",
    "    output.write(\"    <tr><td><a href=Stockpython.txt>Stock Log</a></td></tr>\\n\")\n",
    "    output.write(\"    <tr><td><a href=StockProfit.html>Stock Profit</a></td></tr>\\n\")\n",
    "    if platform == 'darwin' : # or win32\n",
    "        # FullFile_Name = \"Log/UPBit_History_\"+DateTime+\".txt\"\n",
    "        output.write(\"    <tr><td><a href=Bitpython.txt>BitCoin <a href=Bitpython.txt>Tail_Log</a><a href=Log/UPBit_History_%s.txt>Full_Log</a></td></tr>\\n\" % DateTime)\n",
    "    else :\n",
    "        # FullFile_Name = \"Log/UPBit_History_\"+DateTime_Win+\".txt\"\n",
    "        output.write(\"    <tr><td><a href=Bitpython.txt>BitCoin <a href=Bitpython.txt>Tail_Log</a><a href=Log/UPBit_History_%s.txt>Full_Log</a></td></tr>\\n\" % DateTime_Win)\n",
    "    output.write(\"    <tr><td><a href=BitCoinProfit.txt>BitCoin Profit</a></td></tr>\\n\")\n",
    "    output.write(\"    <tr><td>#########################</td></tr>\\n\")\n",
    "    output.write(\"    <tr><td><a href=KINDEX골드선물레버.html>골드레버</a></td></tr>\\n\")\n",
    "    output.write(\"    <tr><td><a href=Tiger구리선물.html>구리선물</a></td></tr>\\n\")\n",
    "    output.write(\"    <tr><td><a href=KODEX원유선물.html>원유WTI</a></td></tr>\\n\")\n",
    "    output.write(\"    <tr><td>#########################</td></tr>\\n\")\n",
    "    for x in list_files :\n",
    "        output.write(\"    <tr><td><a href=\")\n",
    "        output.write(x)\n",
    "        output.write(\">\\n\")\n",
    "        output.write(x)\n",
    "        output.write(\"</a></td></tr>\\n\")\n",
    "    output.write(\"</div>\\n\")\n",
    "    output.write(\"</center>\\n\")\n",
    "    output.write(\"</body>\\n\")\n",
    "\n",
    "if __name__ == '__main__' :\n",
    "\n",
    "    list_files = __Get_List()\n",
    "    __Making_Index(list_files)"
   ]
  }
 ],
 "metadata": {
  "kernelspec": {
   "display_name": "Python 3",
   "language": "python",
   "name": "python3"
  },
  "language_info": {
   "codemirror_mode": {
    "name": "ipython",
    "version": 3
   },
   "file_extension": ".py",
   "mimetype": "text/x-python",
   "name": "python",
   "nbconvert_exporter": "python",
   "pygments_lexer": "ipython3",
   "version": "3.7.7"
  }
 },
 "nbformat": 4,
 "nbformat_minor": 4
}
